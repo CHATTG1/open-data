{
 "cells": [
  {
   "cell_type": "code",
   "execution_count": null,
   "metadata": {
    "collapsed": true
   },
   "outputs": [],
   "source": [
    "# Data Exploration: US Census data from Raj"
   ]
  },
  {
   "cell_type": "code",
   "execution_count": 3,
   "metadata": {
    "collapsed": false
   },
   "outputs": [],
   "source": [
    "import pandas as pd\n",
    "import numpy as np\n",
    "import matplotlib.pyplot as plt\n",
    "import matplotlib\n",
    "matplotlib.style.use('ggplot')\n",
    "%matplotlib inline"
   ]
  },
  {
   "cell_type": "code",
   "execution_count": 4,
   "metadata": {
    "collapsed": false
   },
   "outputs": [],
   "source": [
    "income_df = pd.read_csv('acs20135yr-csv/x19_income.csv', \n",
    "                        usecols=['GEOID','B19001e1','B19001e2','B19001e3','B19001e4','B19001e5','B19001e6','B19001e7','B19001e8','B19001e9','B19001e10','B19001e11','B19001e12','B19001e13','B19001e14','B19001e15','B19001e16','B19001e17',\n",
    "                                 'B19019e1','B19019e2','B19019e3','B19019e4','B19019e5','B19019e6','B19019e7','B19019e8',\n",
    "                                 'B19049e1','B19049e2','B19049e3','B19049e4','B19049e5'])\n",
    "income_df.columns=['GEOID','hhinctotalhh','hhinclt10k','hhinc10-15k','hhinc15-20k','hhinc20-25k','hhinc25-30k','hhinc30-35k','hhinc35-40k','hhinc40-45k','hhinc45-50k','hhinc50-60k','hhinc60-75k','hhinc75-100k','hhinc100-125k','hhinc125-150k','hhinc150-200k','hhincgt200k','medhhincbysizetot','medhhincbysize1p','medhhincbysize2p','medhhincbysize3p','medhhincbysize4p','medhhincbysize5p','medhhincbysize6p','medhhincbysize7p','medhhincbyagetotal','medhhincbyagelt25','medhhincbyage25-44','medhhincbyage45-64','medhhincbyagegt65']\n",
    "## NEED TO DEAL WITH ISSUE WHERE DATA IS SUPPRESSED BY REMOVING ROWS WITH ZEROS\n",
    "### SUCH AS GEOID 86000US01003 (Amherst, MA)\n",
    "income_df.head()"
   ]
  },
  {
   "cell_type": "code",
   "execution_count": 6,
   "metadata": {
    "collapsed": false
   },
   "outputs": [
    {
     "data": {
      "text/html": [
       "<div>\n",
       "<table border=\"1\" class=\"dataframe\">\n",
       "  <thead>\n",
       "    <tr style=\"text-align: right;\">\n",
       "      <th></th>\n",
       "      <th>GEOID</th>\n",
       "      <th>hhinctotalhh</th>\n",
       "      <th>hhinclt10k</th>\n",
       "      <th>hhinc10-15k</th>\n",
       "      <th>hhinc15-20k</th>\n",
       "      <th>hhinc20-25k</th>\n",
       "      <th>hhinc25-30k</th>\n",
       "      <th>hhinc30-35k</th>\n",
       "      <th>hhinc35-40k</th>\n",
       "      <th>hhinc40-45k</th>\n",
       "      <th>...</th>\n",
       "      <th>medhhincbysize3p</th>\n",
       "      <th>medhhincbysize4p</th>\n",
       "      <th>medhhincbysize5p</th>\n",
       "      <th>medhhincbysize6p</th>\n",
       "      <th>medhhincbysize7p</th>\n",
       "      <th>medhhincbyagetotal</th>\n",
       "      <th>medhhincbyagelt25</th>\n",
       "      <th>medhhincbyage25-44</th>\n",
       "      <th>medhhincbyage45-64</th>\n",
       "      <th>medhhincbyagegt65</th>\n",
       "    </tr>\n",
       "  </thead>\n",
       "  <tbody>\n",
       "    <tr>\n",
       "      <th>0</th>\n",
       "      <td>86000US01001</td>\n",
       "      <td>7056</td>\n",
       "      <td>494</td>\n",
       "      <td>259</td>\n",
       "      <td>355</td>\n",
       "      <td>341</td>\n",
       "      <td>298</td>\n",
       "      <td>325</td>\n",
       "      <td>335</td>\n",
       "      <td>210</td>\n",
       "      <td>...</td>\n",
       "      <td>75128</td>\n",
       "      <td>83480</td>\n",
       "      <td>99549</td>\n",
       "      <td>128295</td>\n",
       "      <td>96413</td>\n",
       "      <td>58733</td>\n",
       "      <td>37533</td>\n",
       "      <td>68766</td>\n",
       "      <td>79127</td>\n",
       "      <td>29383</td>\n",
       "    </tr>\n",
       "    <tr>\n",
       "      <th>1</th>\n",
       "      <td>86000US01002</td>\n",
       "      <td>9248</td>\n",
       "      <td>912</td>\n",
       "      <td>707</td>\n",
       "      <td>570</td>\n",
       "      <td>352</td>\n",
       "      <td>543</td>\n",
       "      <td>377</td>\n",
       "      <td>335</td>\n",
       "      <td>234</td>\n",
       "      <td>...</td>\n",
       "      <td>59777</td>\n",
       "      <td>53688</td>\n",
       "      <td>92813</td>\n",
       "      <td>34306</td>\n",
       "      <td>197143</td>\n",
       "      <td>54422</td>\n",
       "      <td>21094</td>\n",
       "      <td>48378</td>\n",
       "      <td>102500</td>\n",
       "      <td>69452</td>\n",
       "    </tr>\n",
       "    <tr>\n",
       "      <th>2</th>\n",
       "      <td>86000US01003</td>\n",
       "      <td>16</td>\n",
       "      <td>0</td>\n",
       "      <td>0</td>\n",
       "      <td>0</td>\n",
       "      <td>0</td>\n",
       "      <td>0</td>\n",
       "      <td>0</td>\n",
       "      <td>0</td>\n",
       "      <td>0</td>\n",
       "      <td>...</td>\n",
       "      <td>NaN</td>\n",
       "      <td>NaN</td>\n",
       "      <td>NaN</td>\n",
       "      <td>NaN</td>\n",
       "      <td>NaN</td>\n",
       "      <td>NaN</td>\n",
       "      <td>NaN</td>\n",
       "      <td>NaN</td>\n",
       "      <td>NaN</td>\n",
       "      <td>NaN</td>\n",
       "    </tr>\n",
       "    <tr>\n",
       "      <th>3</th>\n",
       "      <td>86000US01005</td>\n",
       "      <td>1937</td>\n",
       "      <td>61</td>\n",
       "      <td>42</td>\n",
       "      <td>88</td>\n",
       "      <td>113</td>\n",
       "      <td>99</td>\n",
       "      <td>88</td>\n",
       "      <td>40</td>\n",
       "      <td>19</td>\n",
       "      <td>...</td>\n",
       "      <td>83274</td>\n",
       "      <td>93500</td>\n",
       "      <td>83750</td>\n",
       "      <td>NaN</td>\n",
       "      <td>193750</td>\n",
       "      <td>68644</td>\n",
       "      <td>NaN</td>\n",
       "      <td>98000</td>\n",
       "      <td>76667</td>\n",
       "      <td>30265</td>\n",
       "    </tr>\n",
       "    <tr>\n",
       "      <th>4</th>\n",
       "      <td>86000US01007</td>\n",
       "      <td>5798</td>\n",
       "      <td>251</td>\n",
       "      <td>190</td>\n",
       "      <td>371</td>\n",
       "      <td>213</td>\n",
       "      <td>399</td>\n",
       "      <td>183</td>\n",
       "      <td>180</td>\n",
       "      <td>154</td>\n",
       "      <td>...</td>\n",
       "      <td>102337</td>\n",
       "      <td>105000</td>\n",
       "      <td>74788</td>\n",
       "      <td>98657</td>\n",
       "      <td>NaN</td>\n",
       "      <td>71875</td>\n",
       "      <td>21016</td>\n",
       "      <td>71976</td>\n",
       "      <td>89867</td>\n",
       "      <td>36173</td>\n",
       "    </tr>\n",
       "  </tbody>\n",
       "</table>\n",
       "<p>5 rows × 31 columns</p>\n",
       "</div>"
      ],
      "text/plain": [
       "          GEOID  hhinctotalhh  hhinclt10k  hhinc10-15k  hhinc15-20k  \\\n",
       "0  86000US01001          7056         494          259          355   \n",
       "1  86000US01002          9248         912          707          570   \n",
       "2  86000US01003            16           0            0            0   \n",
       "3  86000US01005          1937          61           42           88   \n",
       "4  86000US01007          5798         251          190          371   \n",
       "\n",
       "   hhinc20-25k  hhinc25-30k  hhinc30-35k  hhinc35-40k  hhinc40-45k  \\\n",
       "0          341          298          325          335          210   \n",
       "1          352          543          377          335          234   \n",
       "2            0            0            0            0            0   \n",
       "3          113           99           88           40           19   \n",
       "4          213          399          183          180          154   \n",
       "\n",
       "         ...          medhhincbysize3p  medhhincbysize4p  medhhincbysize5p  \\\n",
       "0        ...                     75128             83480             99549   \n",
       "1        ...                     59777             53688             92813   \n",
       "2        ...                       NaN               NaN               NaN   \n",
       "3        ...                     83274             93500             83750   \n",
       "4        ...                    102337            105000             74788   \n",
       "\n",
       "   medhhincbysize6p  medhhincbysize7p  medhhincbyagetotal  medhhincbyagelt25  \\\n",
       "0            128295             96413               58733              37533   \n",
       "1             34306            197143               54422              21094   \n",
       "2               NaN               NaN                 NaN                NaN   \n",
       "3               NaN            193750               68644                NaN   \n",
       "4             98657               NaN               71875              21016   \n",
       "\n",
       "   medhhincbyage25-44  medhhincbyage45-64  medhhincbyagegt65  \n",
       "0               68766               79127              29383  \n",
       "1               48378              102500              69452  \n",
       "2                 NaN                 NaN                NaN  \n",
       "3               98000               76667              30265  \n",
       "4               71976               89867              36173  \n",
       "\n",
       "[5 rows x 31 columns]"
      ]
     },
     "execution_count": 6,
     "metadata": {},
     "output_type": "execute_result"
    }
   ],
   "source": [
    "# binned bar chart of income\n",
    "plt.figure()\n",
    "px = pop['B00001e1'].plot(kind='hist', bins=10, figsize=(16,4))\n",
    "#hx = pop['B00002e1'].plot(kind='hist', bins=5, figsize=(16,4))\n",
    "px.set_ylabel('# of Zip codes')\n",
    "px.set_xlabel('Population in Zip code')\n"
   ]
  },
  {
   "cell_type": "code",
   "execution_count": 7,
   "metadata": {
    "collapsed": false
   },
   "outputs": [],
   "source": [
    "counts_pop_house = pd.read_csv('acs20135yr-csv/x00_pop_housing_counts.csv')\n",
    "pop = counts_pop_house.loc[:, ['B00001e1']]\n",
    "#pop = counts_pop_house.loc[:, ['GEOID','B00001e1']]"
   ]
  },
  {
   "cell_type": "code",
   "execution_count": 8,
   "metadata": {
    "collapsed": false
   },
   "outputs": [
    {
     "data": {
      "text/html": [
       "<div>\n",
       "<table border=\"1\" class=\"dataframe\">\n",
       "  <thead>\n",
       "    <tr style=\"text-align: right;\">\n",
       "      <th></th>\n",
       "      <th>B00001e1</th>\n",
       "    </tr>\n",
       "  </thead>\n",
       "  <tbody>\n",
       "    <tr>\n",
       "      <th>0</th>\n",
       "      <td>1117</td>\n",
       "    </tr>\n",
       "    <tr>\n",
       "      <th>1</th>\n",
       "      <td>2687</td>\n",
       "    </tr>\n",
       "    <tr>\n",
       "      <th>2</th>\n",
       "      <td>NaN</td>\n",
       "    </tr>\n",
       "    <tr>\n",
       "      <th>3</th>\n",
       "      <td>350</td>\n",
       "    </tr>\n",
       "    <tr>\n",
       "      <th>4</th>\n",
       "      <td>873</td>\n",
       "    </tr>\n",
       "  </tbody>\n",
       "</table>\n",
       "</div>"
      ],
      "text/plain": [
       "   B00001e1\n",
       "0      1117\n",
       "1      2687\n",
       "2       NaN\n",
       "3       350\n",
       "4       873"
      ]
     },
     "execution_count": 8,
     "metadata": {},
     "output_type": "execute_result"
    }
   ],
   "source": [
    "pop.describe()#percentiles=[.2,.4,.6,.8])\n",
    "pop.head()"
   ]
  },
  {
   "cell_type": "code",
   "execution_count": 9,
   "metadata": {
    "collapsed": false
   },
   "outputs": [],
   "source": [
    "poptenth = np.arange(0, pop.max(), pop.max()*.10)\n",
    "popgroups = pd.cut(pop, poptenth)"
   ]
  },
  {
   "cell_type": "code",
   "execution_count": 10,
   "metadata": {
    "collapsed": false
   },
   "outputs": [
    {
     "data": {
      "text/plain": [
       "<matplotlib.text.Text at 0x102034190>"
      ]
     },
     "execution_count": 10,
     "metadata": {},
     "output_type": "execute_result"
    },
    {
     "data": {
      "image/png": "[encoded data removed]",
      "text/plain": [
       "<matplotlib.figure.Figure at 0x109136b10>"
      ]
     },
     "metadata": {},
     "output_type": "display_data"
    }
   ],
   "source": [
    "# binned bar chart of population\n",
    "plt.figure()\n",
    "px = pop['B00001e1'].plot(kind='hist', bins=10, figsize=(16,4))\n",
    "#hx = pop['B00002e1'].plot(kind='hist', bins=5, figsize=(16,4))\n",
    "px.set_ylabel('# of Zip codes')\n",
    "px.set_xlabel('Population in Zip code')\n",
    "#plt.ylim(3000, pop.max())\n"
   ]
  },
  {
   "cell_type": "code",
   "execution_count": 11,
   "metadata": {
    "collapsed": false
   },
   "outputs": [
    {
     "data": {
      "text/plain": [
       "<matplotlib.axes._subplots.AxesSubplot at 0x108f1f650>"
      ]
     },
     "execution_count": 11,
     "metadata": {},
     "output_type": "execute_result"
    },
    {
     "data": {
      "image/png": "[encoded data removed]",
      "text/plain": [
       "<matplotlib.figure.Figure at 0x109e6a990>"
      ]
     },
     "metadata": {},
     "output_type": "display_data"
    }
   ],
   "source": [
    "poptenth = np.arange(0, pop['B00001e1'].max(), pop['B00001e1'].max() * .10)\n",
    "popbinned = pd.cut(pop['B00001e1'], poptenth)\n",
    "popgroups = pd.value_counts(popbinned)\n",
    "#popgroups\n",
    "pop.plot(kind='hist', bins=10, stacked=True)"
   ]
  },
  {
   "cell_type": "markdown",
   "metadata": {},
   "source": [
    "## Income"
   ]
  },
  {
   "cell_type": "code",
   "execution_count": null,
   "metadata": {
    "collapsed": false
   },
   "outputs": [],
   "source": [
    "medhhincome = census_df['X19_B19049e1']"
   ]
  },
  {
   "cell_type": "code",
   "execution_count": null,
   "metadata": {
    "collapsed": false
   },
   "outputs": [],
   "source": [
    "# scatterplot of population\n",
    "plt.ylim(20000, medhhincome.max())\n",
    "plt.plot(medhhincome, 'o', label='Median Household Income')"
   ]
  },
  {
   "cell_type": "code",
   "execution_count": null,
   "metadata": {
    "collapsed": false
   },
   "outputs": [],
   "source": [
    "inctenth = np.arange(0, medhhincome.max(), medhhincome.max() * .10)\n",
    "incgroups = pd.cut(medhhincome, inctenth)"
   ]
  },
  {
   "cell_type": "code",
   "execution_count": null,
   "metadata": {
    "collapsed": false
   },
   "outputs": [],
   "source": [
    "incgroups_vcs = pd.value_counts(incgroups)"
   ]
  },
  {
   "cell_type": "code",
   "execution_count": null,
   "metadata": {
    "collapsed": false
   },
   "outputs": [],
   "source": [
    "#incgroups_vcs.plot(kind='bar')\n",
    "medhhincome.plot(kind='kde')"
   ]
  },
  {
   "cell_type": "code",
   "execution_count": null,
   "metadata": {
    "collapsed": false
   },
   "outputs": [],
   "source": [
    "inchist = pd.value_counts(medhhincome, bins=25)\n",
    "medhhincome.nsmallest(11,take_last=False)"
   ]
  },
  {
   "cell_type": "code",
   "execution_count": null,
   "metadata": {
    "collapsed": false
   },
   "outputs": [],
   "source": [
    "inchist\n",
    "#inchist.__class__"
   ]
  },
  {
   "cell_type": "code",
   "execution_count": null,
   "metadata": {
    "collapsed": false
   },
   "outputs": [],
   "source": [
    "plt.plot(inchist)"
   ]
  },
  {
   "cell_type": "code",
   "execution_count": null,
   "metadata": {
    "collapsed": true
   },
   "outputs": [],
   "source": []
  }
 ],
 "metadata": {
  "kernelspec": {
   "display_name": "Python 2",
   "language": "python",
   "name": "python2"
  },
  "language_info": {
   "codemirror_mode": {
    "name": "ipython",
    "version": 2
   },
   "file_extension": ".py",
   "mimetype": "text/x-python",
   "name": "python",
   "nbconvert_exporter": "python",
   "pygments_lexer": "ipython2",
   "version": "2.7.10"
  }
 },
 "nbformat": 4,
 "nbformat_minor": 0
}
