{
 "cells": [
  {
   "cell_type": "code",
   "execution_count": 44,
   "metadata": {
    "collapsed": false
   },
   "outputs": [
    {
     "ename": "SyntaxError",
     "evalue": "invalid syntax (<ipython-input-44-349011cf2f1f>, line 2)",
     "output_type": "error",
     "traceback": [
      "\u001b[0;36m  File \u001b[0;32m\"<ipython-input-44-349011cf2f1f>\"\u001b[0;36m, line \u001b[0;32m2\u001b[0m\n\u001b[0;31m    _version 0.5_\u001b[0m\n\u001b[0m               ^\u001b[0m\n\u001b[0;31mSyntaxError\u001b[0m\u001b[0;31m:\u001b[0m invalid syntax\n"
     ]
    }
   ],
   "source": [
    "# Simple Customer Insights\n",
    "_version 0.5_\n",
    "\n",
    "January 28, 2016\n",
    "https://developer.ibm.com/clouddataservices/\n",
    "\n",
    "\n",
    "## Overview\n",
    "\n",
    "Today, an ever growing wealth of public data, e.g. census, geospatial, demographic, incident, traffic, etc., is available to fuel analytic insights when combined with corporate data. Your own data only tells you what your business is doing. With open data, you learn what the world is doing. And the combination of the two allows you to align business practices with the market.\n",
    "\n",
    "**Simple Customer Insights** is about democratizing big data analytics with open data and cloud-based analytics. It's a [Jupyter notebook](http://jupyter.org/) that runs best in [IBM's Spark-as-a-service](http://www.ibm.com/analytics/us/en/technology/cloud-data-services/spark-as-a-service/) that enables a Bluemix user to integrate customer sales data with US Census demographic data, and in minutes perform common analyses that once took days or weeks to complete.\n",
    "\n",
    "This notebook goes through a complete analysis using sample data readily available on the web. But it also serves as a template for your own work with your own data. Just substitute the sample sales data with your own! \n",
    "\n",
    "Here are some of the insights produced in this notebook:\n",
    "1. demographic characteristics of good customers\n",
    "1. most important demographic characteristics in understanding product appeal\n",
    "1. location of places that are like those areas currently enjoying strong sales"
   ]
  },
  {
   "cell_type": "markdown",
   "metadata": {},
   "source": [
    "## Table of Contents\n",
    "\n",
    "- [Setup](#setup)\n",
    "- [Census Data](#censusdata)\n",
    "  - [Census data description](#censusdatadesc)\n",
    "  - [Import](#censusdataimport)\n",
    "  - [Descriptive statistics](#censusdatastats)\n",
    "- [Sales data](#salesdata)\n",
    "  - [Import](#salesdataimport)\n",
    "  - [Merge with Census](#salesdatamerge)\n",
    "- [Insights](#insights)\n",
    "  - [Visualization](#viz)\n",
    "  - [Analysis](#analysis)\n",
    "- [Finding high potential zip codes](#zipfind)\n",
    "- [Mapping](#map)"
   ]
  },
  {
   "cell_type": "markdown",
   "metadata": {},
   "source": [
    "<a id=\"setup\"></a>\n",
    "## Setup "
   ]
  },
  {
   "cell_type": "markdown",
   "metadata": {},
   "source": [
    "### Python Imports\n",
    "Import libraries and connection information to connect to Swift Object Storage on IBM Bluemix to get data from CSV text files. "
   ]
  },
  {
   "cell_type": "code",
   "execution_count": 45,
   "metadata": {
    "collapsed": false
   },
   "outputs": [],
   "source": [
    "import os, requests, StringIO, pandas as pd, numpy as np, json, matplotlib.pyplot as plt, seaborn as sns"
   ]
  },
  {
   "cell_type": "code",
   "execution_count": 46,
   "metadata": {
    "collapsed": false
   },
   "outputs": [],
   "source": [
    "credentials = {}\n",
    "credentials['auth_url'] = 'https://identity.open.softlayer.com'\n",
    "credentials['user_id'] = os.environ['OBJECTSTORE_USER_ID']\n",
    "credentials['domain_id'] = os.environ['OBJECTSTORE_DOMAIN_ID']\n",
    "credentials['username'] = os.environ['OBJECTSTORE_USERNAME']\n",
    "credentials['password'] = os.environ['OBJECTSTORE_PASSWORD']\n",
    "credentials['container'] = os.environ['OBJECTSTORE_CONTAINER']"
   ]
  },
  {
   "cell_type": "markdown",
   "metadata": {},
   "source": [
    "### ObjectStore credentials\n",
    "\n",
    "My working environment is set up to get my ObjectStore credentials above from variables I've set at the operating system level. You may want to go a simpler route and just enter the values as strings above. And when you copy this notebook to the [IBM Analytics for Apache Spark service](https://console.ng.bluemix.net/catalog/services/apache-spark/?cm_mmc=developerWorks-_-dWdevcenter-_-clouddataservices-_-lp), embedding your credentials directly in the notebook is your only option. You can find your ObjectStore credentials by finding your instance of the ObjectStore service in Bluemix and clicking on the 'Service Credentials'.\n",
    "\n",
    "![ObjectStore credentials](https://raw.githubusercontent.com/ibm-cds-labs/open-data/master/samples/img/objectstore_creds.png \"ObjectStore credentials\")"
   ]
  },
  {
   "cell_type": "code",
   "execution_count": 47,
   "metadata": {
    "collapsed": true
   },
   "outputs": [],
   "source": [
    "# A function returning a StringIO object containing text file content from Object Storage.\n",
    "\n",
    "def getFileContent(credentials):\n",
    "    url1 = ''.join([credentials['auth_url'], '/v3/auth/tokens'])\n",
    "    data = {'auth': \n",
    "            {'identity': \n",
    "             {'methods': ['password'],\n",
    "              'password': {\n",
    "                    'user': \n",
    "                    {'name': credentials['username'],\n",
    "                     'domain': {'id': credentials['domain_id']},\n",
    "                     'password': credentials['password']\n",
    "                    }\n",
    "               }\n",
    "              }\n",
    "             }\n",
    "            }\n",
    "    headers1 = {'Content-Type': 'application/json'}\n",
    "    resp1 = requests.post(url=url1, data=json.dumps(data), headers=headers1)\n",
    "    resp1_body = resp1.json()    \n",
    "    for e1 in resp1_body['token']['catalog']:\n",
    "        if(e1['type']=='object-store'):\n",
    "            for e2 in e1['endpoints']:\n",
    "                if(e2['interface']=='public'):\n",
    "                    url2 = ''.join([e2['url'],'/', \n",
    "                                    credentials['container'], '/', \n",
    "                                    credentials['filename']])\n",
    "    s_subject_token = resp1.headers['x-subject-token']\n",
    "    headers2 = {'X-Auth-Token': s_subject_token, 'accept': 'application/json'}\n",
    "    resp2 = requests.get(url=url2, headers=headers2)\n",
    "    return StringIO.StringIO(resp2.content)"
   ]
  },
  {
   "cell_type": "markdown",
   "metadata": {},
   "source": [
    "<a id=\"censusdata\"></a>\n",
    "## Census data\n",
    "\n",
    "Census data from the 2013 US Census American Community Survey (ACS), 5-year estimates. \n",
    "\n",
    "Created from the \"zip code tabulation area\" (ZCTA) [TIGER/Line® with Selected Demographic and Economic Data product in Geodatabase format](http://www.census.gov/geo/maps-data/data/tiger-data.html). This particular version of the ACS is used for the folowing reasons:\n",
    "1. 5-year estimates are the most accurate data outside of the decennial census [as explained here](http://www.census.gov/programs-surveys/acs/guidance/estimates.html).\n",
    "1. 2013 is the most recent data set with 5-year estimates\n",
    "1. TIGER/Line® gives you the geographic boundaries of the zip codes so you can perform spatial analyses\n",
    "1. This data set is smaller than the full Census, but still has the important income, education, race, age and occupation demographics we want to use.\n",
    "\n",
    "If you want to do this yourself, [this article](https://developer.ibm.com/clouddataservices/2015/09/08/census-open-data-on-ibm-cloud/) explains how to get a CSV out of that format. "
   ]
  },
  {
   "cell_type": "markdown",
   "metadata": {},
   "source": [
    "<a id=\"censusdatadesc\"></a>\n",
    "### Census data description\n",
    "\n",
    "Here are the data fields we will use from the Census\n",
    "\n",
    "```\n",
    "GEOID: Zip code\n",
    "```\n",
    "\n",
    "### Income\n",
    "```\n",
    "B19049e1: Median household income\n",
    "```\n",
    "\n",
    "#### Age\n",
    "```\n",
    "B01002e1: Median age\n",
    "```\n",
    "\n",
    "#### Educational attainment (population >= 25 years old)\n",
    "```\n",
    "B15003e1: Total population\n",
    "B15003e2: No schooling completed\n",
    "B15003e3: Nursery school\n",
    "B15003e4 to B15003e16: Kindergarten to 12th grade\n",
    "B15003e17: Regular high school diploma\n",
    "B15003e18: GED or alternative\n",
    "B15003e19: Some college, < 1 year\n",
    "B15003e20: Some college, 1 or more years, no degree\n",
    "B15003e21: Associates degree\n",
    "B15003e22: Bachelors degree\n",
    "B15003e23: Masters degree\n",
    "B15003e24: Professional degree\n",
    "B15003e25: Doctorate degree\n",
    "```\n",
    "\n",
    "#### Race\n",
    "```\n",
    "B02001e1: Total population\n",
    "B02001e2: White alone\n",
    "B02001e3: Black or African American alone\n",
    "B02001e4: American Indian and Alaska Native alone\n",
    "B02001e5: Asian alone\n",
    "B02001e6: Native Hawaiian and Other Pacific Islander alone\n",
    "B02001e7: Some other race alone\n",
    "B02001e8: Two or more races\n",
    "B03001e3: Hispanic or Latino: Total population\n",
    "```"
   ]
  },
  {
   "cell_type": "markdown",
   "metadata": {},
   "source": [
    "<a id=\"censusdataimport\"></a>\n",
    "### Import Census data"
   ]
  },
  {
   "cell_type": "code",
   "execution_count": 48,
   "metadata": {
    "collapsed": false
   },
   "outputs": [],
   "source": [
    "#credentials['filename'] = 'sci.csv'\n",
    "#raw_data = getFileContent(credentials)"
   ]
  },
  {
   "cell_type": "code",
   "execution_count": 49,
   "metadata": {
    "collapsed": false
   },
   "outputs": [],
   "source": [
    "raw_data = \"/Users/rajrsingh/Desktop/csv/outfiles/sci.csv.gz\"\n",
    "census_df = pd.read_csv(raw_data, usecols=['GEOID','B19049e1','B01002e1',\n",
    "                                           'B15003e1','B15003e2','B15003e3','B15003e4','B15003e5','B15003e6','B15003e7','B15003e8','B15003e9','B15003e10','B15003e11','B15003e12','B15003e13','B15003e14','B15003e15','B15003e16','B15003e17','B15003e18','B15003e19','B15003e20','B15003e21','B15003e22','B15003e23','B15003e24','B15003e25',\n",
    "                                           'B02001e1','B02001e2','B02001e3','B02001e4','B02001e5','B02001e6','B02001e7','B02001e8','B03001e3'])"
   ]
  },
  {
   "cell_type": "markdown",
   "metadata": {},
   "source": [
    "Group educational attainment into 4 major categories, and normalize by making it a percentage of the zip code's population"
   ]
  },
  {
   "cell_type": "code",
   "execution_count": 50,
   "metadata": {
    "collapsed": false
   },
   "outputs": [],
   "source": [
    "census_df['INCOME'] = census_df['B19049e1']\n",
    "census_df['AGE'] = census_df['B01002e1']\n",
    "census_df.drop(['B19049e1','B01002e1'],inplace=True,axis=1)\n",
    "\n",
    "census_df['NOHSDIP'] = (census_df['B15003e2']+census_df['B15003e3']+census_df['B15003e4']+census_df['B15003e5']+census_df['B15003e6']+census_df['B15003e7']+census_df['B15003e8']+census_df['B15003e9']+census_df['B15003e10']+census_df['B15003e11']+census_df['B15003e12']+census_df['B15003e13']+census_df['B15003e14']+census_df['B15003e15']+census_df['B15003e16'])/census_df['B15003e1']\n",
    "census_df['HSDIPSOMECOL'] = (census_df['B15003e17']+census_df['B15003e18']+census_df['B15003e19']+census_df['B15003e20']+census_df['B15003e21'])/census_df['B15003e1']\n",
    "census_df['BA'] = census_df['B15003e22']/census_df['B15003e1']\n",
    "census_df['GRAD'] = (census_df['B15003e23']+census_df['B15003e24']+census_df['B15003e25'])/census_df['B15003e1']\n",
    "census_df['POPULATION'] = census_df['B15003e1']\n",
    "\n",
    "census_df['WHITE'] = census_df['B02001e2']/census_df['B02001e1']\n",
    "census_df['BLACK'] = census_df['B02001e3']/census_df['B02001e1']\n",
    "census_df['NATAMER'] = census_df['B02001e4']/census_df['B02001e1']\n",
    "census_df['ASIAN'] = census_df['B02001e5']/census_df['B02001e1']\n",
    "census_df['PACISL'] = census_df['B02001e6']/census_df['B02001e1']\n",
    "census_df['OTHERRACE'] = census_df['B02001e7']/census_df['B02001e1']\n",
    "census_df['MULTIRACE'] = census_df['B02001e8']/census_df['B02001e1']\n",
    "census_df['HISPLAT'] = census_df['B03001e3']/census_df['B02001e1']\n",
    "census_df.drop(['B02001e1','B02001e2','B02001e3','B02001e4','B02001e5','B02001e6','B02001e7','B02001e8','B03001e3'],inplace=True,axis=1)\n",
    "\n",
    "census_df = census_df.set_index('GEOID')"
   ]
  },
  {
   "cell_type": "code",
   "execution_count": 58,
   "metadata": {
    "collapsed": false
   },
   "outputs": [
    {
     "data": {
      "text/html": [
       "<div>\n",
       "<table border=\"1\" class=\"dataframe\">\n",
       "  <thead>\n",
       "    <tr style=\"text-align: right;\">\n",
       "      <th></th>\n",
       "      <th>BA</th>\n",
       "      <th>GRAD</th>\n",
       "      <th>HSDIPSOMECOL</th>\n",
       "      <th>NOHSDIP</th>\n",
       "      <th>POPULATION</th>\n",
       "    </tr>\n",
       "  </thead>\n",
       "  <tbody>\n",
       "    <tr>\n",
       "      <th>0</th>\n",
       "      <td>0.18049</td>\n",
       "      <td>0.107933</td>\n",
       "      <td>0.571749</td>\n",
       "      <td>0.139828</td>\n",
       "      <td>1</td>\n",
       "    </tr>\n",
       "  </tbody>\n",
       "</table>\n",
       "</div>"
      ],
      "text/plain": [
       "        BA      GRAD  HSDIPSOMECOL   NOHSDIP  POPULATION\n",
       "0  0.18049  0.107933      0.571749  0.139828           1"
      ]
     },
     "execution_count": 58,
     "metadata": {},
     "output_type": "execute_result"
    }
   ],
   "source": [
    "# Compute national averages\n",
    "\n",
    "nat_edu_nohsdip = census_df['B15003e2'].sum()+census_df['B15003e3'].sum()+census_df['B15003e4'].sum()+census_df['B15003e5'].sum()+census_df['B15003e6'].sum()+census_df['B15003e7'].sum()+census_df['B15003e8'].sum()+census_df['B15003e9'].sum()+census_df['B15003e10'].sum()+census_df['B15003e11'].sum()+census_df['B15003e12'].sum()+census_df['B15003e13'].sum()+census_df['B15003e14'].sum()+census_df['B15003e15'].sum()+census_df['B15003e16'].sum()\n",
    "nat_edu_hsdipsomecol = census_df['B15003e17'].sum()+census_df['B15003e18'].sum()+census_df['B15003e19'].sum()+census_df['B15003e20'].sum()+census_df['B15003e21'].sum()\n",
    "nat_edu_ba = census_df['B15003e22'].sum()\n",
    "nat_edu_grad = census_df['B15003e23'].sum()+census_df['B15003e24'].sum()+census_df['B15003e25'].sum()\n",
    "census_df_national = pd.DataFrame( [ {'NOHSDIP': nat_edu_nohsdip, 'HSDIPSOMECOL': nat_edu_hsdipsomecol, 'BA': nat_edu_ba, 'GRAD': nat_edu_grad, 'POPULATION': census_df['B15003e1'].sum()} ] )\n",
    "\n",
    "# Now safely drop unneeded original data columns\n",
    "census_df.drop(['B15003e1','B15003e2','B15003e3','B15003e4','B15003e5','B15003e6','B15003e7','B15003e8','B15003e9','B15003e10','B15003e11','B15003e12','B15003e13','B15003e14','B15003e15','B15003e16','B15003e17','B15003e18','B15003e19','B15003e20','B15003e21','B15003e22','B15003e23','B15003e24','B15003e25'],inplace=True,axis=1)\n",
    "\n",
    "census_df_national_rate = census_df_national.truediv(census_df_national['POPULATION'], axis=0)\n",
    "census_df_national_rate #will be used later\n",
    "\n"
   ]
  },
  {
   "cell_type": "markdown",
   "metadata": {},
   "source": [
    "<a id=\"censusdatastats\"></a>\n",
    "### Descriptive statistics for Census data\n",
    "\n",
    "### Summary statistics"
   ]
  },
  {
   "cell_type": "code",
   "execution_count": 59,
   "metadata": {
    "collapsed": false
   },
   "outputs": [
    {
     "data": {
      "text/html": [
       "<div>\n",
       "<table border=\"1\" class=\"dataframe\">\n",
       "  <thead>\n",
       "    <tr style=\"text-align: right;\">\n",
       "      <th></th>\n",
       "      <th>INCOME</th>\n",
       "      <th>AGE</th>\n",
       "      <th>NOHSDIP</th>\n",
       "      <th>HSDIPSOMECOL</th>\n",
       "      <th>BA</th>\n",
       "      <th>GRAD</th>\n",
       "      <th>POPULATION</th>\n",
       "      <th>WHITE</th>\n",
       "      <th>BLACK</th>\n",
       "      <th>NATAMER</th>\n",
       "      <th>ASIAN</th>\n",
       "      <th>PACISL</th>\n",
       "      <th>OTHERRACE</th>\n",
       "      <th>MULTIRACE</th>\n",
       "      <th>HISPLAT</th>\n",
       "    </tr>\n",
       "  </thead>\n",
       "  <tbody>\n",
       "    <tr>\n",
       "      <th>mean</th>\n",
       "      <td>52112.585863</td>\n",
       "      <td>41.495351</td>\n",
       "      <td>0.142982</td>\n",
       "      <td>0.635888</td>\n",
       "      <td>0.141745</td>\n",
       "      <td>0.079385</td>\n",
       "      <td>6262.068235</td>\n",
       "      <td>0.841515</td>\n",
       "      <td>0.076411</td>\n",
       "      <td>0.017566</td>\n",
       "      <td>0.019763</td>\n",
       "      <td>0.001062</td>\n",
       "      <td>0.021783</td>\n",
       "      <td>0.021899</td>\n",
       "      <td>0.084829</td>\n",
       "    </tr>\n",
       "    <tr>\n",
       "      <th>min</th>\n",
       "      <td>2499.000000</td>\n",
       "      <td>4.000000</td>\n",
       "      <td>0.000000</td>\n",
       "      <td>0.000000</td>\n",
       "      <td>0.000000</td>\n",
       "      <td>0.000000</td>\n",
       "      <td>0.000000</td>\n",
       "      <td>0.000000</td>\n",
       "      <td>0.000000</td>\n",
       "      <td>0.000000</td>\n",
       "      <td>0.000000</td>\n",
       "      <td>0.000000</td>\n",
       "      <td>0.000000</td>\n",
       "      <td>0.000000</td>\n",
       "      <td>0.000000</td>\n",
       "    </tr>\n",
       "    <tr>\n",
       "      <th>40%</th>\n",
       "      <td>43864.000000</td>\n",
       "      <td>39.400000</td>\n",
       "      <td>0.098551</td>\n",
       "      <td>0.629885</td>\n",
       "      <td>0.101979</td>\n",
       "      <td>0.044529</td>\n",
       "      <td>1121.000000</td>\n",
       "      <td>0.888687</td>\n",
       "      <td>0.003023</td>\n",
       "      <td>0.000000</td>\n",
       "      <td>0.000000</td>\n",
       "      <td>0.000000</td>\n",
       "      <td>0.000000</td>\n",
       "      <td>0.009633</td>\n",
       "      <td>0.016256</td>\n",
       "    </tr>\n",
       "    <tr>\n",
       "      <th>50%</th>\n",
       "      <td>47778.000000</td>\n",
       "      <td>41.100000</td>\n",
       "      <td>0.118819</td>\n",
       "      <td>0.658076</td>\n",
       "      <td>0.120989</td>\n",
       "      <td>0.055047</td>\n",
       "      <td>1885.000000</td>\n",
       "      <td>0.929005</td>\n",
       "      <td>0.008680</td>\n",
       "      <td>0.000930</td>\n",
       "      <td>0.002520</td>\n",
       "      <td>0.000000</td>\n",
       "      <td>0.002613</td>\n",
       "      <td>0.013994</td>\n",
       "      <td>0.026227</td>\n",
       "    </tr>\n",
       "    <tr>\n",
       "      <th>60%</th>\n",
       "      <td>52031.000000</td>\n",
       "      <td>42.900000</td>\n",
       "      <td>0.143008</td>\n",
       "      <td>0.683938</td>\n",
       "      <td>0.142688</td>\n",
       "      <td>0.067751</td>\n",
       "      <td>3337.800000</td>\n",
       "      <td>0.954310</td>\n",
       "      <td>0.019099</td>\n",
       "      <td>0.002237</td>\n",
       "      <td>0.005837</td>\n",
       "      <td>0.000000</td>\n",
       "      <td>0.006331</td>\n",
       "      <td>0.018782</td>\n",
       "      <td>0.040488</td>\n",
       "    </tr>\n",
       "    <tr>\n",
       "      <th>max</th>\n",
       "      <td>250001.000000</td>\n",
       "      <td>91.500000</td>\n",
       "      <td>1.000000</td>\n",
       "      <td>1.000000</td>\n",
       "      <td>1.000000</td>\n",
       "      <td>1.000000</td>\n",
       "      <td>73169.000000</td>\n",
       "      <td>1.000000</td>\n",
       "      <td>1.000000</td>\n",
       "      <td>1.000000</td>\n",
       "      <td>1.000000</td>\n",
       "      <td>0.610088</td>\n",
       "      <td>1.000000</td>\n",
       "      <td>1.000000</td>\n",
       "      <td>1.000000</td>\n",
       "    </tr>\n",
       "  </tbody>\n",
       "</table>\n",
       "</div>"
      ],
      "text/plain": [
       "             INCOME        AGE   NOHSDIP  HSDIPSOMECOL        BA      GRAD  \\\n",
       "mean   52112.585863  41.495351  0.142982      0.635888  0.141745  0.079385   \n",
       "min     2499.000000   4.000000  0.000000      0.000000  0.000000  0.000000   \n",
       "40%    43864.000000  39.400000  0.098551      0.629885  0.101979  0.044529   \n",
       "50%    47778.000000  41.100000  0.118819      0.658076  0.120989  0.055047   \n",
       "60%    52031.000000  42.900000  0.143008      0.683938  0.142688  0.067751   \n",
       "max   250001.000000  91.500000  1.000000      1.000000  1.000000  1.000000   \n",
       "\n",
       "        POPULATION     WHITE     BLACK   NATAMER     ASIAN    PACISL  \\\n",
       "mean   6262.068235  0.841515  0.076411  0.017566  0.019763  0.001062   \n",
       "min       0.000000  0.000000  0.000000  0.000000  0.000000  0.000000   \n",
       "40%    1121.000000  0.888687  0.003023  0.000000  0.000000  0.000000   \n",
       "50%    1885.000000  0.929005  0.008680  0.000930  0.002520  0.000000   \n",
       "60%    3337.800000  0.954310  0.019099  0.002237  0.005837  0.000000   \n",
       "max   73169.000000  1.000000  1.000000  1.000000  1.000000  0.610088   \n",
       "\n",
       "      OTHERRACE  MULTIRACE   HISPLAT  \n",
       "mean   0.021783   0.021899  0.084829  \n",
       "min    0.000000   0.000000  0.000000  \n",
       "40%    0.000000   0.009633  0.016256  \n",
       "50%    0.002613   0.013994  0.026227  \n",
       "60%    0.006331   0.018782  0.040488  \n",
       "max    1.000000   1.000000  1.000000  "
      ]
     },
     "execution_count": 59,
     "metadata": {},
     "output_type": "execute_result"
    }
   ],
   "source": [
    "summary_df = census_df.describe(percentiles=[0.4,0.5,0.6])\n",
    "summary_df = summary_df.drop(summary_df.index[[0,2]])\n",
    "summary_df"
   ]
  },
  {
   "cell_type": "markdown",
   "metadata": {},
   "source": [
    "#### Examining correlation\n",
    "\n",
    "In this section, we take a quick look at the correlation coefficients of many of our variables of interest to make sure it's worth looking at each one separately. This function computes the [Pearson product-moment correlation coefficient](https://en.wikipedia.org/wiki/Pearson_product-moment_correlation_coefficient), which looks at two variables and computes a number between -1 and 1, where -1 is perfect negative correlation, 1 is perfect positive correlation, and 0 is no correlation. \n",
    "\n",
    "None of our variables of interest have a particularly strong correlation with each other (except for the obvious ones like income with bachelor's (BA) or graduate degree (GRAD)), so we can proceed with analysis knowing that it's worth looking at all of them. "
   ]
  },
  {
   "cell_type": "code",
   "execution_count": 60,
   "metadata": {
    "collapsed": false,
    "scrolled": true
   },
   "outputs": [
    {
     "data": {
      "text/html": [
       "<div>\n",
       "<table border=\"1\" class=\"dataframe\">\n",
       "  <thead>\n",
       "    <tr style=\"text-align: right;\">\n",
       "      <th></th>\n",
       "      <th>INCOME</th>\n",
       "      <th>AGE</th>\n",
       "      <th>NOHSDIP</th>\n",
       "      <th>HSDIPSOMECOL</th>\n",
       "      <th>BA</th>\n",
       "      <th>GRAD</th>\n",
       "      <th>POPULATION</th>\n",
       "      <th>WHITE</th>\n",
       "      <th>BLACK</th>\n",
       "      <th>NATAMER</th>\n",
       "      <th>ASIAN</th>\n",
       "      <th>PACISL</th>\n",
       "      <th>OTHERRACE</th>\n",
       "      <th>MULTIRACE</th>\n",
       "      <th>HISPLAT</th>\n",
       "    </tr>\n",
       "  </thead>\n",
       "  <tbody>\n",
       "    <tr>\n",
       "      <th>INCOME</th>\n",
       "      <td>1.000000</td>\n",
       "      <td>0.019283</td>\n",
       "      <td>-0.493704</td>\n",
       "      <td>-0.403501</td>\n",
       "      <td>0.612801</td>\n",
       "      <td>0.608495</td>\n",
       "      <td>0.178891</td>\n",
       "      <td>0.133290</td>\n",
       "      <td>-0.198328</td>\n",
       "      <td>-0.105948</td>\n",
       "      <td>0.316532</td>\n",
       "      <td>0.007710</td>\n",
       "      <td>-0.056600</td>\n",
       "      <td>0.013031</td>\n",
       "      <td>-0.059277</td>\n",
       "    </tr>\n",
       "    <tr>\n",
       "      <th>AGE</th>\n",
       "      <td>0.019283</td>\n",
       "      <td>1.000000</td>\n",
       "      <td>-0.132785</td>\n",
       "      <td>0.101687</td>\n",
       "      <td>-0.012931</td>\n",
       "      <td>0.014904</td>\n",
       "      <td>-0.266181</td>\n",
       "      <td>0.343371</td>\n",
       "      <td>-0.202765</td>\n",
       "      <td>-0.135526</td>\n",
       "      <td>-0.157964</td>\n",
       "      <td>-0.041132</td>\n",
       "      <td>-0.233473</td>\n",
       "      <td>-0.139086</td>\n",
       "      <td>-0.285101</td>\n",
       "    </tr>\n",
       "    <tr>\n",
       "      <th>NOHSDIP</th>\n",
       "      <td>-0.493704</td>\n",
       "      <td>-0.132785</td>\n",
       "      <td>1.000000</td>\n",
       "      <td>-0.188873</td>\n",
       "      <td>-0.494164</td>\n",
       "      <td>-0.393269</td>\n",
       "      <td>-0.020282</td>\n",
       "      <td>-0.271457</td>\n",
       "      <td>0.222353</td>\n",
       "      <td>0.097679</td>\n",
       "      <td>-0.094619</td>\n",
       "      <td>-0.008707</td>\n",
       "      <td>0.308963</td>\n",
       "      <td>-0.006511</td>\n",
       "      <td>0.374778</td>\n",
       "    </tr>\n",
       "    <tr>\n",
       "      <th>HSDIPSOMECOL</th>\n",
       "      <td>-0.403501</td>\n",
       "      <td>0.101687</td>\n",
       "      <td>-0.188873</td>\n",
       "      <td>1.000000</td>\n",
       "      <td>-0.647732</td>\n",
       "      <td>-0.679238</td>\n",
       "      <td>-0.316416</td>\n",
       "      <td>0.200404</td>\n",
       "      <td>-0.086157</td>\n",
       "      <td>0.043879</td>\n",
       "      <td>-0.363412</td>\n",
       "      <td>-0.007114</td>\n",
       "      <td>-0.201873</td>\n",
       "      <td>-0.049185</td>\n",
       "      <td>-0.243569</td>\n",
       "    </tr>\n",
       "    <tr>\n",
       "      <th>BA</th>\n",
       "      <td>0.612801</td>\n",
       "      <td>-0.012931</td>\n",
       "      <td>-0.494164</td>\n",
       "      <td>-0.647732</td>\n",
       "      <td>1.000000</td>\n",
       "      <td>0.554777</td>\n",
       "      <td>0.274165</td>\n",
       "      <td>0.025670</td>\n",
       "      <td>-0.084107</td>\n",
       "      <td>-0.102451</td>\n",
       "      <td>0.336811</td>\n",
       "      <td>0.017371</td>\n",
       "      <td>-0.030838</td>\n",
       "      <td>0.044005</td>\n",
       "      <td>-0.032637</td>\n",
       "    </tr>\n",
       "    <tr>\n",
       "      <th>GRAD</th>\n",
       "      <td>0.608495</td>\n",
       "      <td>0.014904</td>\n",
       "      <td>-0.393269</td>\n",
       "      <td>-0.679238</td>\n",
       "      <td>0.554777</td>\n",
       "      <td>1.000000</td>\n",
       "      <td>0.237045</td>\n",
       "      <td>-0.016970</td>\n",
       "      <td>-0.043357</td>\n",
       "      <td>-0.079743</td>\n",
       "      <td>0.338609</td>\n",
       "      <td>0.002832</td>\n",
       "      <td>-0.022916</td>\n",
       "      <td>0.039553</td>\n",
       "      <td>-0.035593</td>\n",
       "    </tr>\n",
       "    <tr>\n",
       "      <th>POPULATION</th>\n",
       "      <td>0.178891</td>\n",
       "      <td>-0.266181</td>\n",
       "      <td>-0.020282</td>\n",
       "      <td>-0.316416</td>\n",
       "      <td>0.274165</td>\n",
       "      <td>0.237045</td>\n",
       "      <td>1.000000</td>\n",
       "      <td>-0.320324</td>\n",
       "      <td>0.200520</td>\n",
       "      <td>-0.074026</td>\n",
       "      <td>0.391102</td>\n",
       "      <td>0.041310</td>\n",
       "      <td>0.295136</td>\n",
       "      <td>0.116616</td>\n",
       "      <td>0.332683</td>\n",
       "    </tr>\n",
       "    <tr>\n",
       "      <th>WHITE</th>\n",
       "      <td>0.133290</td>\n",
       "      <td>0.343371</td>\n",
       "      <td>-0.271457</td>\n",
       "      <td>0.200404</td>\n",
       "      <td>0.025670</td>\n",
       "      <td>-0.016970</td>\n",
       "      <td>-0.320324</td>\n",
       "      <td>1.000000</td>\n",
       "      <td>-0.762096</td>\n",
       "      <td>-0.396899</td>\n",
       "      <td>-0.333107</td>\n",
       "      <td>-0.138006</td>\n",
       "      <td>-0.355111</td>\n",
       "      <td>-0.303079</td>\n",
       "      <td>-0.253063</td>\n",
       "    </tr>\n",
       "    <tr>\n",
       "      <th>BLACK</th>\n",
       "      <td>-0.198328</td>\n",
       "      <td>-0.202765</td>\n",
       "      <td>0.222353</td>\n",
       "      <td>-0.086157</td>\n",
       "      <td>-0.084107</td>\n",
       "      <td>-0.043357</td>\n",
       "      <td>0.200520</td>\n",
       "      <td>-0.762096</td>\n",
       "      <td>1.000000</td>\n",
       "      <td>-0.062498</td>\n",
       "      <td>0.015115</td>\n",
       "      <td>-0.019454</td>\n",
       "      <td>0.054918</td>\n",
       "      <td>0.004964</td>\n",
       "      <td>0.019785</td>\n",
       "    </tr>\n",
       "    <tr>\n",
       "      <th>NATAMER</th>\n",
       "      <td>-0.105948</td>\n",
       "      <td>-0.135526</td>\n",
       "      <td>0.097679</td>\n",
       "      <td>0.043879</td>\n",
       "      <td>-0.102451</td>\n",
       "      <td>-0.079743</td>\n",
       "      <td>-0.074026</td>\n",
       "      <td>-0.396899</td>\n",
       "      <td>-0.062498</td>\n",
       "      <td>1.000000</td>\n",
       "      <td>-0.036464</td>\n",
       "      <td>0.018238</td>\n",
       "      <td>-0.023622</td>\n",
       "      <td>0.093660</td>\n",
       "      <td>-0.025517</td>\n",
       "    </tr>\n",
       "    <tr>\n",
       "      <th>ASIAN</th>\n",
       "      <td>0.316532</td>\n",
       "      <td>-0.157964</td>\n",
       "      <td>-0.094619</td>\n",
       "      <td>-0.363412</td>\n",
       "      <td>0.336811</td>\n",
       "      <td>0.338609</td>\n",
       "      <td>0.391102</td>\n",
       "      <td>-0.333107</td>\n",
       "      <td>0.015115</td>\n",
       "      <td>-0.036464</td>\n",
       "      <td>1.000000</td>\n",
       "      <td>0.189542</td>\n",
       "      <td>0.161768</td>\n",
       "      <td>0.198433</td>\n",
       "      <td>0.151266</td>\n",
       "    </tr>\n",
       "    <tr>\n",
       "      <th>PACISL</th>\n",
       "      <td>0.007710</td>\n",
       "      <td>-0.041132</td>\n",
       "      <td>-0.008707</td>\n",
       "      <td>-0.007114</td>\n",
       "      <td>0.017371</td>\n",
       "      <td>0.002832</td>\n",
       "      <td>0.041310</td>\n",
       "      <td>-0.138006</td>\n",
       "      <td>-0.019454</td>\n",
       "      <td>0.018238</td>\n",
       "      <td>0.189542</td>\n",
       "      <td>1.000000</td>\n",
       "      <td>0.021777</td>\n",
       "      <td>0.260661</td>\n",
       "      <td>0.033242</td>\n",
       "    </tr>\n",
       "    <tr>\n",
       "      <th>OTHERRACE</th>\n",
       "      <td>-0.056600</td>\n",
       "      <td>-0.233473</td>\n",
       "      <td>0.308963</td>\n",
       "      <td>-0.201873</td>\n",
       "      <td>-0.030838</td>\n",
       "      <td>-0.022916</td>\n",
       "      <td>0.295136</td>\n",
       "      <td>-0.355111</td>\n",
       "      <td>0.054918</td>\n",
       "      <td>-0.023622</td>\n",
       "      <td>0.161768</td>\n",
       "      <td>0.021777</td>\n",
       "      <td>1.000000</td>\n",
       "      <td>0.098723</td>\n",
       "      <td>0.713044</td>\n",
       "    </tr>\n",
       "    <tr>\n",
       "      <th>MULTIRACE</th>\n",
       "      <td>0.013031</td>\n",
       "      <td>-0.139086</td>\n",
       "      <td>-0.006511</td>\n",
       "      <td>-0.049185</td>\n",
       "      <td>0.044005</td>\n",
       "      <td>0.039553</td>\n",
       "      <td>0.116616</td>\n",
       "      <td>-0.303079</td>\n",
       "      <td>0.004964</td>\n",
       "      <td>0.093660</td>\n",
       "      <td>0.198433</td>\n",
       "      <td>0.260661</td>\n",
       "      <td>0.098723</td>\n",
       "      <td>1.000000</td>\n",
       "      <td>0.122140</td>\n",
       "    </tr>\n",
       "    <tr>\n",
       "      <th>HISPLAT</th>\n",
       "      <td>-0.059277</td>\n",
       "      <td>-0.285101</td>\n",
       "      <td>0.374778</td>\n",
       "      <td>-0.243569</td>\n",
       "      <td>-0.032637</td>\n",
       "      <td>-0.035593</td>\n",
       "      <td>0.332683</td>\n",
       "      <td>-0.253063</td>\n",
       "      <td>0.019785</td>\n",
       "      <td>-0.025517</td>\n",
       "      <td>0.151266</td>\n",
       "      <td>0.033242</td>\n",
       "      <td>0.713044</td>\n",
       "      <td>0.122140</td>\n",
       "      <td>1.000000</td>\n",
       "    </tr>\n",
       "  </tbody>\n",
       "</table>\n",
       "</div>"
      ],
      "text/plain": [
       "                INCOME       AGE   NOHSDIP  HSDIPSOMECOL        BA      GRAD  \\\n",
       "INCOME        1.000000  0.019283 -0.493704     -0.403501  0.612801  0.608495   \n",
       "AGE           0.019283  1.000000 -0.132785      0.101687 -0.012931  0.014904   \n",
       "NOHSDIP      -0.493704 -0.132785  1.000000     -0.188873 -0.494164 -0.393269   \n",
       "HSDIPSOMECOL -0.403501  0.101687 -0.188873      1.000000 -0.647732 -0.679238   \n",
       "BA            0.612801 -0.012931 -0.494164     -0.647732  1.000000  0.554777   \n",
       "GRAD          0.608495  0.014904 -0.393269     -0.679238  0.554777  1.000000   \n",
       "POPULATION    0.178891 -0.266181 -0.020282     -0.316416  0.274165  0.237045   \n",
       "WHITE         0.133290  0.343371 -0.271457      0.200404  0.025670 -0.016970   \n",
       "BLACK        -0.198328 -0.202765  0.222353     -0.086157 -0.084107 -0.043357   \n",
       "NATAMER      -0.105948 -0.135526  0.097679      0.043879 -0.102451 -0.079743   \n",
       "ASIAN         0.316532 -0.157964 -0.094619     -0.363412  0.336811  0.338609   \n",
       "PACISL        0.007710 -0.041132 -0.008707     -0.007114  0.017371  0.002832   \n",
       "OTHERRACE    -0.056600 -0.233473  0.308963     -0.201873 -0.030838 -0.022916   \n",
       "MULTIRACE     0.013031 -0.139086 -0.006511     -0.049185  0.044005  0.039553   \n",
       "HISPLAT      -0.059277 -0.285101  0.374778     -0.243569 -0.032637 -0.035593   \n",
       "\n",
       "              POPULATION     WHITE     BLACK   NATAMER     ASIAN    PACISL  \\\n",
       "INCOME          0.178891  0.133290 -0.198328 -0.105948  0.316532  0.007710   \n",
       "AGE            -0.266181  0.343371 -0.202765 -0.135526 -0.157964 -0.041132   \n",
       "NOHSDIP        -0.020282 -0.271457  0.222353  0.097679 -0.094619 -0.008707   \n",
       "HSDIPSOMECOL   -0.316416  0.200404 -0.086157  0.043879 -0.363412 -0.007114   \n",
       "BA              0.274165  0.025670 -0.084107 -0.102451  0.336811  0.017371   \n",
       "GRAD            0.237045 -0.016970 -0.043357 -0.079743  0.338609  0.002832   \n",
       "POPULATION      1.000000 -0.320324  0.200520 -0.074026  0.391102  0.041310   \n",
       "WHITE          -0.320324  1.000000 -0.762096 -0.396899 -0.333107 -0.138006   \n",
       "BLACK           0.200520 -0.762096  1.000000 -0.062498  0.015115 -0.019454   \n",
       "NATAMER        -0.074026 -0.396899 -0.062498  1.000000 -0.036464  0.018238   \n",
       "ASIAN           0.391102 -0.333107  0.015115 -0.036464  1.000000  0.189542   \n",
       "PACISL          0.041310 -0.138006 -0.019454  0.018238  0.189542  1.000000   \n",
       "OTHERRACE       0.295136 -0.355111  0.054918 -0.023622  0.161768  0.021777   \n",
       "MULTIRACE       0.116616 -0.303079  0.004964  0.093660  0.198433  0.260661   \n",
       "HISPLAT         0.332683 -0.253063  0.019785 -0.025517  0.151266  0.033242   \n",
       "\n",
       "              OTHERRACE  MULTIRACE   HISPLAT  \n",
       "INCOME        -0.056600   0.013031 -0.059277  \n",
       "AGE           -0.233473  -0.139086 -0.285101  \n",
       "NOHSDIP        0.308963  -0.006511  0.374778  \n",
       "HSDIPSOMECOL  -0.201873  -0.049185 -0.243569  \n",
       "BA            -0.030838   0.044005 -0.032637  \n",
       "GRAD          -0.022916   0.039553 -0.035593  \n",
       "POPULATION     0.295136   0.116616  0.332683  \n",
       "WHITE         -0.355111  -0.303079 -0.253063  \n",
       "BLACK          0.054918   0.004964  0.019785  \n",
       "NATAMER       -0.023622   0.093660 -0.025517  \n",
       "ASIAN          0.161768   0.198433  0.151266  \n",
       "PACISL         0.021777   0.260661  0.033242  \n",
       "OTHERRACE      1.000000   0.098723  0.713044  \n",
       "MULTIRACE      0.098723   1.000000  0.122140  \n",
       "HISPLAT        0.713044   0.122140  1.000000  "
      ]
     },
     "execution_count": 60,
     "metadata": {},
     "output_type": "execute_result"
    }
   ],
   "source": [
    "census_df.corr()"
   ]
  },
  {
   "cell_type": "markdown",
   "metadata": {},
   "source": [
    "<a id=\"salesdata\"></a>\n",
    "## Sales data"
   ]
  },
  {
   "cell_type": "markdown",
   "metadata": {},
   "source": [
    "<a id=\"salesdataimport\"></a>\n",
    "### Import sample sales data set\n",
    "\n",
    "Here we bring in a relatively small sample sales data set. There are only about 400 U.S. sales for the product we are interested in -- \"Product1\". But this is good enough to illustrate the analysis. \n",
    "\n",
    "If you were to do this yourself with your own sales data, your data should organized as follows:\n",
    "1. there should be sales in the U.S. (since we're analyzing it against U.S. Census data)\n",
    "1. each row should represent a unique sale\n",
    "1. the data set should contain columns for zip code, price, product ID and Country name\n",
    "1. the data set should be in a CSV text file format"
   ]
  },
  {
   "cell_type": "code",
   "execution_count": 10,
   "metadata": {
    "collapsed": false
   },
   "outputs": [],
   "source": [
    "credentials['filename'] = 'SalesJan2009.csv'\n",
    "country = 'United States'\n",
    "product = 'Product1'\n",
    "\n",
    "# import the CSV file\n",
    "#raw_data = getFileContent(credentials)\n",
    "raw_data = \"/Users/rajrsingh/Box Sync/CDS/Developer Advocacy/Open Data/sales2009/SalesJan2009.csv\"\n",
    "\n",
    "# create a data frame with just the columns we need\n",
    "sales_df = pd.read_csv(raw_data, dtype={\"US Zip\": np.str}, \n",
    "                       usecols=['Product','US Zip','Country'])\n",
    "\n",
    "# just get US sales for a single product\n",
    "sales_df = sales_df[ (sales_df.Product == product) \n",
    "                      & (sales_df.Country == country)]\n",
    "\n",
    "# make the zip code format match the zip code format in the census data\n",
    "sales_df['GEOID'] = \"86000US\" + sales_df['US Zip']\n",
    "\n",
    "# drop columns we don't need anymore\n",
    "sales_df.drop(['Product','Country','US Zip'],inplace=True,axis=1)"
   ]
  },
  {
   "cell_type": "code",
   "execution_count": 11,
   "metadata": {
    "collapsed": false
   },
   "outputs": [
    {
     "data": {
      "text/plain": [
       "count    306.000000\n",
       "mean       1.307190\n",
       "std        0.866733\n",
       "min        1.000000\n",
       "25%        1.000000\n",
       "50%        1.000000\n",
       "75%        1.000000\n",
       "max        9.000000\n",
       "Name: Sales, dtype: float64"
      ]
     },
     "execution_count": 11,
     "metadata": {},
     "output_type": "execute_result"
    }
   ],
   "source": [
    "sales_counts = sales_df['GEOID'].value_counts()\n",
    "sales_counts.name = 'Sales'\n",
    "sales_counts.describe()"
   ]
  },
  {
   "cell_type": "markdown",
   "metadata": {
    "collapsed": false
   },
   "source": [
    "<a id=\"salesdatamerge\"></a>\n",
    "### Merge sales to Census"
   ]
  },
  {
   "cell_type": "code",
   "execution_count": 12,
   "metadata": {
    "collapsed": false
   },
   "outputs": [
    {
     "data": {
      "text/html": [
       "<div>\n",
       "<table border=\"1\" class=\"dataframe\">\n",
       "  <thead>\n",
       "    <tr style=\"text-align: right;\">\n",
       "      <th></th>\n",
       "      <th>INCOME</th>\n",
       "      <th>AGE</th>\n",
       "      <th>NOHSDIP</th>\n",
       "      <th>HSDIPSOMECOL</th>\n",
       "      <th>BA</th>\n",
       "      <th>GRAD</th>\n",
       "      <th>POPULATION</th>\n",
       "      <th>WHITE</th>\n",
       "      <th>BLACK</th>\n",
       "      <th>NATAMER</th>\n",
       "      <th>ASIAN</th>\n",
       "      <th>PACISL</th>\n",
       "      <th>OTHERRACE</th>\n",
       "      <th>MULTIRACE</th>\n",
       "      <th>HISPLAT</th>\n",
       "      <th>Sales</th>\n",
       "    </tr>\n",
       "  </thead>\n",
       "  <tbody>\n",
       "    <tr>\n",
       "      <th>count</th>\n",
       "      <td>304.000000</td>\n",
       "      <td>304.000000</td>\n",
       "      <td>304.000000</td>\n",
       "      <td>304.000000</td>\n",
       "      <td>304.000000</td>\n",
       "      <td>304.000000</td>\n",
       "      <td>305.000000</td>\n",
       "      <td>304.000000</td>\n",
       "      <td>304.000000</td>\n",
       "      <td>304.000000</td>\n",
       "      <td>304.000000</td>\n",
       "      <td>304.000000</td>\n",
       "      <td>304.000000</td>\n",
       "      <td>304.000000</td>\n",
       "      <td>304.000000</td>\n",
       "      <td>306.000000</td>\n",
       "    </tr>\n",
       "    <tr>\n",
       "      <th>mean</th>\n",
       "      <td>76178.167763</td>\n",
       "      <td>39.015132</td>\n",
       "      <td>0.100072</td>\n",
       "      <td>0.472995</td>\n",
       "      <td>0.246166</td>\n",
       "      <td>0.180768</td>\n",
       "      <td>17508.301639</td>\n",
       "      <td>0.760876</td>\n",
       "      <td>0.093561</td>\n",
       "      <td>0.005064</td>\n",
       "      <td>0.072316</td>\n",
       "      <td>0.002496</td>\n",
       "      <td>0.036198</td>\n",
       "      <td>0.029490</td>\n",
       "      <td>0.134404</td>\n",
       "      <td>1.307190</td>\n",
       "    </tr>\n",
       "    <tr>\n",
       "      <th>std</th>\n",
       "      <td>36094.736528</td>\n",
       "      <td>6.057036</td>\n",
       "      <td>0.083413</td>\n",
       "      <td>0.148536</td>\n",
       "      <td>0.093341</td>\n",
       "      <td>0.115888</td>\n",
       "      <td>11111.128358</td>\n",
       "      <td>0.193980</td>\n",
       "      <td>0.144929</td>\n",
       "      <td>0.012988</td>\n",
       "      <td>0.090579</td>\n",
       "      <td>0.011741</td>\n",
       "      <td>0.056148</td>\n",
       "      <td>0.031175</td>\n",
       "      <td>0.151961</td>\n",
       "      <td>0.866733</td>\n",
       "    </tr>\n",
       "    <tr>\n",
       "      <th>min</th>\n",
       "      <td>16069.000000</td>\n",
       "      <td>21.800000</td>\n",
       "      <td>0.000000</td>\n",
       "      <td>0.040559</td>\n",
       "      <td>0.000000</td>\n",
       "      <td>0.010708</td>\n",
       "      <td>0.000000</td>\n",
       "      <td>0.095601</td>\n",
       "      <td>0.000000</td>\n",
       "      <td>0.000000</td>\n",
       "      <td>0.000000</td>\n",
       "      <td>0.000000</td>\n",
       "      <td>0.000000</td>\n",
       "      <td>0.000000</td>\n",
       "      <td>0.000000</td>\n",
       "      <td>1.000000</td>\n",
       "    </tr>\n",
       "    <tr>\n",
       "      <th>40%</th>\n",
       "      <td>62186.000000</td>\n",
       "      <td>37.400000</td>\n",
       "      <td>0.058791</td>\n",
       "      <td>0.436068</td>\n",
       "      <td>0.220465</td>\n",
       "      <td>0.124059</td>\n",
       "      <td>13572.800000</td>\n",
       "      <td>0.783673</td>\n",
       "      <td>0.025167</td>\n",
       "      <td>0.001416</td>\n",
       "      <td>0.027078</td>\n",
       "      <td>0.000000</td>\n",
       "      <td>0.011289</td>\n",
       "      <td>0.020066</td>\n",
       "      <td>0.060033</td>\n",
       "      <td>1.000000</td>\n",
       "    </tr>\n",
       "    <tr>\n",
       "      <th>50%</th>\n",
       "      <td>69855.500000</td>\n",
       "      <td>38.650000</td>\n",
       "      <td>0.074362</td>\n",
       "      <td>0.478094</td>\n",
       "      <td>0.247006</td>\n",
       "      <td>0.159859</td>\n",
       "      <td>16488.000000</td>\n",
       "      <td>0.819666</td>\n",
       "      <td>0.035619</td>\n",
       "      <td>0.002246</td>\n",
       "      <td>0.038763</td>\n",
       "      <td>0.000000</td>\n",
       "      <td>0.015675</td>\n",
       "      <td>0.023534</td>\n",
       "      <td>0.076052</td>\n",
       "      <td>1.000000</td>\n",
       "    </tr>\n",
       "    <tr>\n",
       "      <th>60%</th>\n",
       "      <td>79873.600000</td>\n",
       "      <td>40.600000</td>\n",
       "      <td>0.092572</td>\n",
       "      <td>0.531858</td>\n",
       "      <td>0.279242</td>\n",
       "      <td>0.192510</td>\n",
       "      <td>19351.800000</td>\n",
       "      <td>0.857119</td>\n",
       "      <td>0.054711</td>\n",
       "      <td>0.002938</td>\n",
       "      <td>0.056001</td>\n",
       "      <td>0.000132</td>\n",
       "      <td>0.022228</td>\n",
       "      <td>0.027695</td>\n",
       "      <td>0.104562</td>\n",
       "      <td>1.000000</td>\n",
       "    </tr>\n",
       "    <tr>\n",
       "      <th>max</th>\n",
       "      <td>216037.000000</td>\n",
       "      <td>68.300000</td>\n",
       "      <td>0.553417</td>\n",
       "      <td>0.769231</td>\n",
       "      <td>0.440627</td>\n",
       "      <td>0.656643</td>\n",
       "      <td>65117.000000</td>\n",
       "      <td>0.994135</td>\n",
       "      <td>0.767693</td>\n",
       "      <td>0.136069</td>\n",
       "      <td>0.488290</td>\n",
       "      <td>0.115780</td>\n",
       "      <td>0.385442</td>\n",
       "      <td>0.271421</td>\n",
       "      <td>0.887213</td>\n",
       "      <td>9.000000</td>\n",
       "    </tr>\n",
       "  </tbody>\n",
       "</table>\n",
       "</div>"
      ],
      "text/plain": [
       "              INCOME         AGE     NOHSDIP  HSDIPSOMECOL          BA  \\\n",
       "count     304.000000  304.000000  304.000000    304.000000  304.000000   \n",
       "mean    76178.167763   39.015132    0.100072      0.472995    0.246166   \n",
       "std     36094.736528    6.057036    0.083413      0.148536    0.093341   \n",
       "min     16069.000000   21.800000    0.000000      0.040559    0.000000   \n",
       "40%     62186.000000   37.400000    0.058791      0.436068    0.220465   \n",
       "50%     69855.500000   38.650000    0.074362      0.478094    0.247006   \n",
       "60%     79873.600000   40.600000    0.092572      0.531858    0.279242   \n",
       "max    216037.000000   68.300000    0.553417      0.769231    0.440627   \n",
       "\n",
       "             GRAD    POPULATION       WHITE       BLACK     NATAMER  \\\n",
       "count  304.000000    305.000000  304.000000  304.000000  304.000000   \n",
       "mean     0.180768  17508.301639    0.760876    0.093561    0.005064   \n",
       "std      0.115888  11111.128358    0.193980    0.144929    0.012988   \n",
       "min      0.010708      0.000000    0.095601    0.000000    0.000000   \n",
       "40%      0.124059  13572.800000    0.783673    0.025167    0.001416   \n",
       "50%      0.159859  16488.000000    0.819666    0.035619    0.002246   \n",
       "60%      0.192510  19351.800000    0.857119    0.054711    0.002938   \n",
       "max      0.656643  65117.000000    0.994135    0.767693    0.136069   \n",
       "\n",
       "            ASIAN      PACISL   OTHERRACE   MULTIRACE     HISPLAT       Sales  \n",
       "count  304.000000  304.000000  304.000000  304.000000  304.000000  306.000000  \n",
       "mean     0.072316    0.002496    0.036198    0.029490    0.134404    1.307190  \n",
       "std      0.090579    0.011741    0.056148    0.031175    0.151961    0.866733  \n",
       "min      0.000000    0.000000    0.000000    0.000000    0.000000    1.000000  \n",
       "40%      0.027078    0.000000    0.011289    0.020066    0.060033    1.000000  \n",
       "50%      0.038763    0.000000    0.015675    0.023534    0.076052    1.000000  \n",
       "60%      0.056001    0.000132    0.022228    0.027695    0.104562    1.000000  \n",
       "max      0.488290    0.115780    0.385442    0.271421    0.887213    9.000000  "
      ]
     },
     "execution_count": 12,
     "metadata": {},
     "output_type": "execute_result"
    }
   ],
   "source": [
    "saleszips = census_df.join(sales_counts, how='right')\n",
    "saleszips['Zip'] = saleszips.index\n",
    "saleszips.describe(percentiles=[0.4,0.5,0.6])"
   ]
  },
  {
   "cell_type": "markdown",
   "metadata": {},
   "source": [
    "### Identify sales zips with strongest correlation to customers\n",
    "\n",
    "e.g. zips with at least 2 sales - or the top 75% of zips with sales"
   ]
  },
  {
   "cell_type": "code",
   "execution_count": 13,
   "metadata": {
    "collapsed": false
   },
   "outputs": [
    {
     "data": {
      "text/html": [
       "<div>\n",
       "<table border=\"1\" class=\"dataframe\">\n",
       "  <thead>\n",
       "    <tr style=\"text-align: right;\">\n",
       "      <th></th>\n",
       "      <th>INCOME</th>\n",
       "      <th>AGE</th>\n",
       "      <th>NOHSDIP</th>\n",
       "      <th>HSDIPSOMECOL</th>\n",
       "      <th>BA</th>\n",
       "      <th>GRAD</th>\n",
       "      <th>POPULATION</th>\n",
       "      <th>WHITE</th>\n",
       "      <th>BLACK</th>\n",
       "      <th>NATAMER</th>\n",
       "      <th>ASIAN</th>\n",
       "      <th>PACISL</th>\n",
       "      <th>OTHERRACE</th>\n",
       "      <th>MULTIRACE</th>\n",
       "      <th>HISPLAT</th>\n",
       "    </tr>\n",
       "  </thead>\n",
       "  <tbody>\n",
       "    <tr>\n",
       "      <th>mean</th>\n",
       "      <td>76031.980769</td>\n",
       "      <td>37.85</td>\n",
       "      <td>0.116458</td>\n",
       "      <td>0.416471</td>\n",
       "      <td>0.261879</td>\n",
       "      <td>0.205191</td>\n",
       "      <td>17283.132075</td>\n",
       "      <td>0.699061</td>\n",
       "      <td>0.123149</td>\n",
       "      <td>0.006745</td>\n",
       "      <td>0.089312</td>\n",
       "      <td>0.003743</td>\n",
       "      <td>0.045753</td>\n",
       "      <td>0.032236</td>\n",
       "      <td>0.171723</td>\n",
       "    </tr>\n",
       "    <tr>\n",
       "      <th>min</th>\n",
       "      <td>22401.000000</td>\n",
       "      <td>29.90</td>\n",
       "      <td>0.000000</td>\n",
       "      <td>0.040559</td>\n",
       "      <td>0.000000</td>\n",
       "      <td>0.016456</td>\n",
       "      <td>0.000000</td>\n",
       "      <td>0.095601</td>\n",
       "      <td>0.003826</td>\n",
       "      <td>0.000000</td>\n",
       "      <td>0.000000</td>\n",
       "      <td>0.000000</td>\n",
       "      <td>0.000000</td>\n",
       "      <td>0.000000</td>\n",
       "      <td>0.000000</td>\n",
       "    </tr>\n",
       "    <tr>\n",
       "      <th>40%</th>\n",
       "      <td>56963.600000</td>\n",
       "      <td>35.58</td>\n",
       "      <td>0.064051</td>\n",
       "      <td>0.396659</td>\n",
       "      <td>0.239548</td>\n",
       "      <td>0.156830</td>\n",
       "      <td>12456.400000</td>\n",
       "      <td>0.725771</td>\n",
       "      <td>0.055825</td>\n",
       "      <td>0.001435</td>\n",
       "      <td>0.037337</td>\n",
       "      <td>0.000000</td>\n",
       "      <td>0.018347</td>\n",
       "      <td>0.021595</td>\n",
       "      <td>0.077678</td>\n",
       "    </tr>\n",
       "    <tr>\n",
       "      <th>50%</th>\n",
       "      <td>69728.500000</td>\n",
       "      <td>37.80</td>\n",
       "      <td>0.077361</td>\n",
       "      <td>0.424456</td>\n",
       "      <td>0.274037</td>\n",
       "      <td>0.178124</td>\n",
       "      <td>16354.000000</td>\n",
       "      <td>0.766824</td>\n",
       "      <td>0.080367</td>\n",
       "      <td>0.002208</td>\n",
       "      <td>0.054002</td>\n",
       "      <td>0.000000</td>\n",
       "      <td>0.021491</td>\n",
       "      <td>0.027897</td>\n",
       "      <td>0.104359</td>\n",
       "    </tr>\n",
       "    <tr>\n",
       "      <th>60%</th>\n",
       "      <td>81812.000000</td>\n",
       "      <td>39.26</td>\n",
       "      <td>0.097105</td>\n",
       "      <td>0.450315</td>\n",
       "      <td>0.307510</td>\n",
       "      <td>0.209332</td>\n",
       "      <td>18323.800000</td>\n",
       "      <td>0.796342</td>\n",
       "      <td>0.101325</td>\n",
       "      <td>0.002779</td>\n",
       "      <td>0.072390</td>\n",
       "      <td>0.000265</td>\n",
       "      <td>0.025422</td>\n",
       "      <td>0.030893</td>\n",
       "      <td>0.123695</td>\n",
       "    </tr>\n",
       "    <tr>\n",
       "      <th>max</th>\n",
       "      <td>216037.000000</td>\n",
       "      <td>55.60</td>\n",
       "      <td>0.417073</td>\n",
       "      <td>0.769231</td>\n",
       "      <td>0.440627</td>\n",
       "      <td>0.656643</td>\n",
       "      <td>65117.000000</td>\n",
       "      <td>0.989341</td>\n",
       "      <td>0.760590</td>\n",
       "      <td>0.136069</td>\n",
       "      <td>0.488290</td>\n",
       "      <td>0.104259</td>\n",
       "      <td>0.384390</td>\n",
       "      <td>0.191157</td>\n",
       "      <td>0.887213</td>\n",
       "    </tr>\n",
       "  </tbody>\n",
       "</table>\n",
       "</div>"
      ],
      "text/plain": [
       "             INCOME    AGE   NOHSDIP  HSDIPSOMECOL        BA      GRAD  \\\n",
       "mean   76031.980769  37.85  0.116458      0.416471  0.261879  0.205191   \n",
       "min    22401.000000  29.90  0.000000      0.040559  0.000000  0.016456   \n",
       "40%    56963.600000  35.58  0.064051      0.396659  0.239548  0.156830   \n",
       "50%    69728.500000  37.80  0.077361      0.424456  0.274037  0.178124   \n",
       "60%    81812.000000  39.26  0.097105      0.450315  0.307510  0.209332   \n",
       "max   216037.000000  55.60  0.417073      0.769231  0.440627  0.656643   \n",
       "\n",
       "        POPULATION     WHITE     BLACK   NATAMER     ASIAN    PACISL  \\\n",
       "mean  17283.132075  0.699061  0.123149  0.006745  0.089312  0.003743   \n",
       "min       0.000000  0.095601  0.003826  0.000000  0.000000  0.000000   \n",
       "40%   12456.400000  0.725771  0.055825  0.001435  0.037337  0.000000   \n",
       "50%   16354.000000  0.766824  0.080367  0.002208  0.054002  0.000000   \n",
       "60%   18323.800000  0.796342  0.101325  0.002779  0.072390  0.000265   \n",
       "max   65117.000000  0.989341  0.760590  0.136069  0.488290  0.104259   \n",
       "\n",
       "      OTHERRACE  MULTIRACE   HISPLAT  \n",
       "mean   0.045753   0.032236  0.171723  \n",
       "min    0.000000   0.000000  0.000000  \n",
       "40%    0.018347   0.021595  0.077678  \n",
       "50%    0.021491   0.027897  0.104359  \n",
       "60%    0.025422   0.030893  0.123695  \n",
       "max    0.384390   0.191157  0.887213  "
      ]
     },
     "execution_count": 13,
     "metadata": {},
     "output_type": "execute_result"
    }
   ],
   "source": [
    "# 25% threshold is 1, so select zips with sales > 1\n",
    "highsaleszips = saleszips[ ( saleszips.Sales > 1)]\n",
    "highsaleszipssum_df = highsaleszips.describe(percentiles=[.40,.50,.60])\n",
    "highsaleszipssum_df = highsaleszipssum_df.drop(highsaleszipssum_df.index[[0,2]])\n",
    "highsaleszipssum_df.drop(['Sales'],inplace=True,axis=1)\n",
    "highsaleszipssum_df"
   ]
  },
  {
   "cell_type": "markdown",
   "metadata": {},
   "source": [
    "<a id=\"insights\"></a>\n",
    "## Insights"
   ]
  },
  {
   "cell_type": "markdown",
   "metadata": {},
   "source": [
    "<a id=\"viz\"></a>\n",
    "### Visualization"
   ]
  },
  {
   "cell_type": "code",
   "execution_count": 14,
   "metadata": {
    "collapsed": true
   },
   "outputs": [],
   "source": [
    "%matplotlib inline"
   ]
  },
  {
   "cell_type": "code",
   "execution_count": 15,
   "metadata": {
    "collapsed": false
   },
   "outputs": [
    {
     "data": {
      "image/png": "[encoded data removed]",
      "text/plain": [
       "<matplotlib.figure.Figure at 0x10e98e210>"
      ]
     },
     "metadata": {},
     "output_type": "display_data"
    }
   ],
   "source": [
    "import random\n",
    "import numpy\n",
    "from matplotlib import pyplot\n",
    "\n",
    "x = [random.gauss(3,1) for _ in range(400)]\n",
    "y = [random.gauss(4,2) for _ in range(400)]\n",
    "\n",
    "bins = numpy.linspace(-10, 10, 100)\n",
    "\n",
    "pyplot.hist(x, bins, alpha=0.5, label='x')\n",
    "pyplot.hist(y, bins, alpha=0.5, label='y')\n",
    "pyplot.legend(loc='upper right')\n",
    "pyplot.show()"
   ]
  },
  {
   "cell_type": "code",
   "execution_count": 21,
   "metadata": {
    "collapsed": false
   },
   "outputs": [
    {
     "data": {
      "image/png": "[encoded data removed]",
      "text/plain": [
       "<matplotlib.figure.Figure at 0x110e30e90>"
      ]
     },
     "metadata": {},
     "output_type": "display_data"
    }
   ],
   "source": [
    "common_params = dict(bins=20, alpha=0.5,\n",
    "                     range=(0.0,0.5))\n",
    "\n",
    "fig, axs = plt.subplots(4,1)\n",
    "plt.title('Proportion of Persons with no HS Diploma')\n",
    "axs[1].set_ylabel('sales zips')\n",
    "axs[1].hist(highsaleszips['NOHSDIP'], label='Sales Zips', **common_params)\n",
    "\n",
    "axs[2] = axs[1].twinx()\n",
    "axs[2].set_ylabel('nation')\n",
    "axs[2].hist(census_df['NOHSDIP'], label='Nation', histtype='step', linewidth=3, color='green', **common_params)\n",
    "\n",
    "plt.legend(loc='upper right')\n",
    "plt.show()"
   ]
  },
  {
   "cell_type": "code",
   "execution_count": 20,
   "metadata": {
    "collapsed": false
   },
   "outputs": [
    {
     "ename": "ValueError",
     "evalue": "The truth value of a Series is ambiguous. Use a.empty, a.bool(), a.item(), a.any() or a.all().",
     "output_type": "error",
     "traceback": [
      "\u001b[0;31m---------------------------------------------------------------------------\u001b[0m",
      "\u001b[0;31mValueError\u001b[0m                                Traceback (most recent call last)",
      "\u001b[0;32m<ipython-input-20-5703d3d9139f>\u001b[0m in \u001b[0;36m<module>\u001b[0;34m()\u001b[0m\n\u001b[1;32m      4\u001b[0m \u001b[0maxs\u001b[0m\u001b[0;34m[\u001b[0m\u001b[0;36m0\u001b[0m\u001b[0;34m]\u001b[0m\u001b[0;34m.\u001b[0m\u001b[0mset_xticklabels\u001b[0m\u001b[0;34m(\u001b[0m\u001b[0;34m''\u001b[0m\u001b[0;34m)\u001b[0m\u001b[0;34m\u001b[0m\u001b[0m\n\u001b[1;32m      5\u001b[0m \u001b[0maxs\u001b[0m\u001b[0;34m[\u001b[0m\u001b[0;36m0\u001b[0m\u001b[0;34m]\u001b[0m\u001b[0;34m.\u001b[0m\u001b[0mlegend\u001b[0m\u001b[0;34m(\u001b[0m\u001b[0mbbox_to_anchor\u001b[0m\u001b[0;34m=\u001b[0m\u001b[0;34m(\u001b[0m\u001b[0;36m1.05\u001b[0m\u001b[0;34m,\u001b[0m \u001b[0;36m1\u001b[0m\u001b[0;34m)\u001b[0m\u001b[0;34m,\u001b[0m \u001b[0mloc\u001b[0m\u001b[0;34m=\u001b[0m\u001b[0;36m2\u001b[0m\u001b[0;34m,\u001b[0m \u001b[0mborderaxespad\u001b[0m\u001b[0;34m=\u001b[0m\u001b[0;36m0.\u001b[0m\u001b[0;34m)\u001b[0m\u001b[0;34m\u001b[0m\u001b[0m\n\u001b[0;32m----> 6\u001b[0;31m \u001b[0maxs\u001b[0m\u001b[0;34m[\u001b[0m\u001b[0;36m0\u001b[0m\u001b[0;34m]\u001b[0m\u001b[0;34m.\u001b[0m\u001b[0maxhline\u001b[0m\u001b[0;34m(\u001b[0m\u001b[0my\u001b[0m\u001b[0;34m=\u001b[0m\u001b[0mcensus_df_national_rate\u001b[0m\u001b[0;34m[\u001b[0m\u001b[0;34m'NOHSDIP'\u001b[0m\u001b[0;34m]\u001b[0m\u001b[0;34m,\u001b[0m \u001b[0mxmin\u001b[0m\u001b[0;34m=\u001b[0m\u001b[0;36m0.0\u001b[0m\u001b[0;34m,\u001b[0m \u001b[0mxmax\u001b[0m\u001b[0;34m=\u001b[0m\u001b[0;36m1.0\u001b[0m\u001b[0;34m,\u001b[0m \u001b[0mlinewidth\u001b[0m\u001b[0;34m=\u001b[0m\u001b[0;36m2\u001b[0m\u001b[0;34m,\u001b[0m \u001b[0mcolor\u001b[0m \u001b[0;34m=\u001b[0m \u001b[0;34m'k'\u001b[0m\u001b[0;34m)\u001b[0m\u001b[0;34m\u001b[0m\u001b[0m\n\u001b[0m\u001b[1;32m      7\u001b[0m \u001b[0;34m\u001b[0m\u001b[0m\n\u001b[1;32m      8\u001b[0m \u001b[0mhighsaleszips\u001b[0m\u001b[0;34m[\u001b[0m\u001b[0;34m'HSDIPSOMECOL'\u001b[0m\u001b[0;34m]\u001b[0m\u001b[0;34m.\u001b[0m\u001b[0mplot\u001b[0m\u001b[0;34m(\u001b[0m\u001b[0mkind\u001b[0m\u001b[0;34m=\u001b[0m\u001b[0;34m'bar'\u001b[0m\u001b[0;34m,\u001b[0m \u001b[0mcolor\u001b[0m\u001b[0;34m=\u001b[0m\u001b[0;34m'gold'\u001b[0m\u001b[0;34m,\u001b[0m \u001b[0max\u001b[0m\u001b[0;34m=\u001b[0m\u001b[0maxs\u001b[0m\u001b[0;34m[\u001b[0m\u001b[0;36m1\u001b[0m\u001b[0;34m]\u001b[0m\u001b[0;34m,\u001b[0m \u001b[0mfigsize\u001b[0m\u001b[0;34m=\u001b[0m\u001b[0;34m(\u001b[0m\u001b[0;36m12\u001b[0m\u001b[0;34m,\u001b[0m\u001b[0;36m8\u001b[0m\u001b[0;34m)\u001b[0m\u001b[0;34m)\u001b[0m\u001b[0;34m\u001b[0m\u001b[0m\n",
      "\u001b[0;32m/Users/rajrsingh/anaconda/lib/python2.7/site-packages/matplotlib/axes/_axes.pyc\u001b[0m in \u001b[0;36maxhline\u001b[0;34m(self, y, xmin, xmax, **kwargs)\u001b[0m\n\u001b[1;32m    747\u001b[0m         \u001b[0mself\u001b[0m\u001b[0;34m.\u001b[0m\u001b[0m_process_unit_info\u001b[0m\u001b[0;34m(\u001b[0m\u001b[0mydata\u001b[0m\u001b[0;34m=\u001b[0m\u001b[0my\u001b[0m\u001b[0;34m,\u001b[0m \u001b[0mkwargs\u001b[0m\u001b[0;34m=\u001b[0m\u001b[0mkwargs\u001b[0m\u001b[0;34m)\u001b[0m\u001b[0;34m\u001b[0m\u001b[0m\n\u001b[1;32m    748\u001b[0m         \u001b[0myy\u001b[0m \u001b[0;34m=\u001b[0m \u001b[0mself\u001b[0m\u001b[0;34m.\u001b[0m\u001b[0mconvert_yunits\u001b[0m\u001b[0;34m(\u001b[0m\u001b[0my\u001b[0m\u001b[0;34m)\u001b[0m\u001b[0;34m\u001b[0m\u001b[0m\n\u001b[0;32m--> 749\u001b[0;31m         \u001b[0mscaley\u001b[0m \u001b[0;34m=\u001b[0m \u001b[0;34m(\u001b[0m\u001b[0myy\u001b[0m \u001b[0;34m<\u001b[0m \u001b[0mymin\u001b[0m\u001b[0;34m)\u001b[0m \u001b[0;32mor\u001b[0m \u001b[0;34m(\u001b[0m\u001b[0myy\u001b[0m \u001b[0;34m>\u001b[0m \u001b[0mymax\u001b[0m\u001b[0;34m)\u001b[0m\u001b[0;34m\u001b[0m\u001b[0m\n\u001b[0m\u001b[1;32m    750\u001b[0m \u001b[0;34m\u001b[0m\u001b[0m\n\u001b[1;32m    751\u001b[0m         \u001b[0mtrans\u001b[0m \u001b[0;34m=\u001b[0m \u001b[0mself\u001b[0m\u001b[0;34m.\u001b[0m\u001b[0mget_yaxis_transform\u001b[0m\u001b[0;34m(\u001b[0m\u001b[0mwhich\u001b[0m\u001b[0;34m=\u001b[0m\u001b[0;34m'grid'\u001b[0m\u001b[0;34m)\u001b[0m\u001b[0;34m\u001b[0m\u001b[0m\n",
      "\u001b[0;32m/Users/rajrsingh/anaconda/lib/python2.7/site-packages/pandas/core/generic.pyc\u001b[0m in \u001b[0;36m__nonzero__\u001b[0;34m(self)\u001b[0m\n\u001b[1;32m    729\u001b[0m         raise ValueError(\"The truth value of a {0} is ambiguous. \"\n\u001b[1;32m    730\u001b[0m                          \u001b[0;34m\"Use a.empty, a.bool(), a.item(), a.any() or a.all().\"\u001b[0m\u001b[0;34m\u001b[0m\u001b[0m\n\u001b[0;32m--> 731\u001b[0;31m                          .format(self.__class__.__name__))\n\u001b[0m\u001b[1;32m    732\u001b[0m \u001b[0;34m\u001b[0m\u001b[0m\n\u001b[1;32m    733\u001b[0m     \u001b[0m__bool__\u001b[0m \u001b[0;34m=\u001b[0m \u001b[0m__nonzero__\u001b[0m\u001b[0;34m\u001b[0m\u001b[0m\n",
      "\u001b[0;31mValueError\u001b[0m: The truth value of a Series is ambiguous. Use a.empty, a.bool(), a.item(), a.any() or a.all()."
     ]
    },
    {
     "data": {
      "image/png": "[encoded data removed]",
      "text/plain": [
       "<matplotlib.figure.Figure at 0x1128b7590>"
      ]
     },
     "metadata": {},
     "output_type": "display_data"
    }
   ],
   "source": [
    "fig, axs = plt.subplots(4,1)\n",
    "\n",
    "highsaleszips['NOHSDIP'].plot(kind='bar', ax=axs[0], figsize=(12,8), title='Education in sales areas')\n",
    "axs[0].set_xticklabels('')\n",
    "axs[0].legend(bbox_to_anchor=(1.05, 1), loc=2, borderaxespad=0.)\n",
    "axs[0].axhline(y=census_df_national_rate['NOHSDIP'], xmin=0.0, xmax=1.0, linewidth=2, color = 'k')\n",
    "\n",
    "highsaleszips['HSDIPSOMECOL'].plot(kind='bar', color='gold', ax=axs[1], figsize=(12,8))\n",
    "axs[1].set_xticklabels('')\n",
    "axs[1].legend(bbox_to_anchor=(1.05, 1), loc=2, borderaxespad=0.)\n",
    "axs[1].axhline(y=census_df_national_rate['HSDIPSOMECOL'], xmin=0.0, xmax=1.0, linewidth=2, color = 'k')\n",
    "\n",
    "highsaleszips['BA'].plot(kind='bar', color='green', ax=axs[2], figsize=(12,8))\n",
    "axs[2].set_xticklabels('')\n",
    "axs[2].legend(bbox_to_anchor=(1.05, 1), loc=2, borderaxespad=0.)\n",
    "axs[2].axhline(y=census_df_national_rate['BA'], xmin=0.0, xmax=1.0, linewidth=2, color = 'k')\n",
    "\n",
    "highsaleszips['GRAD'].plot(kind='bar', color='purple', ax=axs[3], figsize=(12,8))\n",
    "axs[3].legend(bbox_to_anchor=(1.05, 1), loc=2, borderaxespad=0.)\n",
    "axs[3].axhline(y=census_df_national_rate['GRAD'], xmin=0.0, xmax=1.0, linewidth=2, color = 'k')\n"
   ]
  },
  {
   "cell_type": "markdown",
   "metadata": {},
   "source": [
    "#### Demographics Histograms"
   ]
  },
  {
   "cell_type": "code",
   "execution_count": null,
   "metadata": {
    "collapsed": false
   },
   "outputs": [],
   "source": [
    "plt.subplots_adjust(hspace=.4)\n",
    "common_params = dict(bins=20, range=(0.0,0.5))\n",
    "#common_params['histtype'] = 'step'\n",
    "\n",
    "plt.figure(1)\n",
    "plt.subplot(2, 1, 1)\n",
    "plt.title('Sales zips Proportion of Persons with no HS Diploma')\n",
    "plt.hist(highsaleszips['NOHSDIP'], **common_params)\n",
    "plt.subplot(2, 1, 2)\n",
    "plt.title('National Proportion of Persons with no HS Diploma')\n",
    "plt.hist(census_df['NOHSDIP'], **common_params)\n",
    "\n",
    "#census_df['NOHSDIP'].plot(kind='hist', bins=20, range=(0.0,0.5), figsize=(12,4), title='Proportion of Persons with no HS Diploma')\n"
   ]
  },
  {
   "cell_type": "code",
   "execution_count": null,
   "metadata": {
    "collapsed": false
   },
   "outputs": [],
   "source": [
    "df4 = pd.DataFrame({'a': np.random.randn(1000) + 1, 'b': np.random.randn(1000),\n",
    "                    'c': np.random.randn(1000) - 1}, columns=['a', 'b', 'c'])\n",
    "df4.sample(5)"
   ]
  },
  {
   "cell_type": "code",
   "execution_count": null,
   "metadata": {
    "collapsed": false
   },
   "outputs": [],
   "source": [
    "sns.set_style(\"whitegrid\")\n",
    "sns.set_palette( sns.hls_palette(n_colors=7) )\n",
    "highsaleszips.hist(bins=20, figsize=(16,16), column=['INCOME','AGE','NOHSDIP','HSDIPSOMECOL','BA','GRAD','WHITE','BLACK','NATAMER','ASIAN','PACISL','OTHERRACE','MULTIRACE','HISPLAT'])"
   ]
  },
  {
   "cell_type": "markdown",
   "metadata": {},
   "source": [
    "#### Education levels for zip codes in which we have sales"
   ]
  },
  {
   "cell_type": "code",
   "execution_count": null,
   "metadata": {
    "collapsed": false
   },
   "outputs": [],
   "source": [
    "highsaleszips.loc[:,'NOHSDIP':'GRAD'].plot(kind='bar', stacked=True, figsize=(12,8), title='Education in sales areas')\n",
    "plt.legend(bbox_to_anchor=(1.05, 1), loc=2, borderaxespad=0.)"
   ]
  },
  {
   "cell_type": "markdown",
   "metadata": {},
   "source": [
    "### Major racial groups for zip codes in which we have sales"
   ]
  },
  {
   "cell_type": "code",
   "execution_count": null,
   "metadata": {
    "collapsed": false
   },
   "outputs": [],
   "source": [
    "highsaleszips.loc[:,'WHITE':'ASIAN'].plot(kind='bar', stacked=True, figsize=(12,8), title='Race in sales areas')\n",
    "plt.ylim(0, 1)\n",
    "plt.legend(bbox_to_anchor=(1.05, 1), loc=2, borderaxespad=0.)"
   ]
  },
  {
   "cell_type": "code",
   "execution_count": null,
   "metadata": {
    "collapsed": false
   },
   "outputs": [],
   "source": [
    "# Compare characteristics of the country as a whole to zip codes with sales\n",
    "salesdiff_df = highsaleszipssum_df.sub(summary_df)\n",
    "salesdiff_df"
   ]
  },
  {
   "cell_type": "markdown",
   "metadata": {},
   "source": [
    "<a id=\"analysis\"></a>\n",
    "### Analysis\n",
    "\n",
    "#### Incomes are much higher\n",
    "Median household income overall is about $22,000 higher than the country as a whole, which is **very** significant as that represents a nearly 50% increase in income in these zip codes we sell to.\n",
    "\n",
    "#### Education is greater\n",
    "The percentage of people with high school diplomas but no college degree is almost 24% lower in our sales zips, and that is compensated by a much greater number of college grads (16% higher) and people with graduate degrees of some sort (12% higher). \n",
    "\n",
    "#### People are a little younger\n",
    "Males and females are about 3 1/2 years younger in our zip codes than in the country as a whole.\n",
    "\n",
    "\n",
    "#### White population is lower\n",
    "The white population is lower, and there is a corresponding higher number of other races.\n",
    "\n"
   ]
  },
  {
   "cell_type": "markdown",
   "metadata": {},
   "source": [
    "<a id=\"zipfind\"></a>\n",
    "## Finding high potential zip codes\n",
    "\n",
    "Here we take the variables we found to best explain the population of sales areas, and we look for other zip codes whose demographic characteristics for those variables are within 10 percentage points of the median. "
   ]
  },
  {
   "cell_type": "code",
   "execution_count": null,
   "metadata": {
    "collapsed": false
   },
   "outputs": [],
   "source": [
    "censusgood_df = census_df [\n",
    "    ( census_df.INCOME > highsaleszipssum_df.loc['40%','INCOME'] )\n",
    "    & ( census_df.INCOME < highsaleszipssum_df.loc['60%','INCOME'] )\n",
    "    & ( census_df.AGE > highsaleszipssum_df.loc['40%','AGE'] )\n",
    "    & ( census_df.AGE < highsaleszipssum_df.loc['60%','AGE'] )\n",
    "    & ( census_df.BA > highsaleszipssum_df.loc['40%','BA'] )\n",
    "    & ( census_df.BA < highsaleszipssum_df.loc['60%','BA'] )\n",
    "    & ( census_df.WHITE > highsaleszipssum_df.loc['40%','WHITE'] )\n",
    "    & ( census_df.WHITE < highsaleszipssum_df.loc['60%','WHITE'] )\n",
    "    ]\n",
    "censusgood_df.describe()"
   ]
  },
  {
   "cell_type": "markdown",
   "metadata": {},
   "source": [
    "### Target regions\n",
    "\n",
    "Here we list the matching zip codes. From this point you could use this list in a variety of ways. Here are some ideas: \n",
    "- Guidance for where to spend marketing dollars\n",
    "- Filter existing direct mail lists to target those most likely to buy\n",
    "- Guidance on where to build retail outlets, or if you're a wholesaler, where you want to get your products retailed."
   ]
  },
  {
   "cell_type": "code",
   "execution_count": null,
   "metadata": {
    "collapsed": false
   },
   "outputs": [],
   "source": [
    "censusgood_df.index.tolist()"
   ]
  },
  {
   "cell_type": "markdown",
   "metadata": {},
   "source": [
    "<a id=\"map\"></a>\n",
    "## Mapping great prospective zip codes with CartoDB\n",
    "\n",
    "Having a list of zip codes is great, but it's extremely useful to be able to see the results on a map. This is the best way to do a 'reality check' and see if the results make sense. It's also interesting to survey the country in this way -- a birds-eye view of where your product is selling and where there's potential demand. \n",
    "\n",
    "Here we show an integration with a good friend of ours, CartoDB. CartoDB is a firm specializing in mapping-as-a-service. They use the excellent open source database, PostgreSQL and it's geospatial extension, PostGIS to power their service. \n",
    "\n",
    "What we need to do to dynamically create maps of our analytics results is:\n",
    "1. Manually import the raw census zip code boundaries into CartoDB's platform (with no demographic data attached to reduce the file size)\n",
    "1. Create a map in CartoDB of the zip code boundaries\n",
    "1. Add 2 empty tables to the map that represent zip codes with sales, and good potential zip codes\n",
    "1. When we run an analysis, populate those tables with the results of the analysis"
   ]
  },
  {
   "cell_type": "markdown",
   "metadata": {},
   "source": [
    "### Update data tables in CartoDB"
   ]
  },
  {
   "cell_type": "code",
   "execution_count": null,
   "metadata": {
    "collapsed": true
   },
   "outputs": [],
   "source": [
    "#!pip install --user cartodb\n",
    "# Set up cartodb module for use\n",
    "from cartodb import CartoDBAPIKey, CartoDBException\n",
    "API_KEY = os.environ['CARTODB_APIKEY']\n",
    "CARTODB_ACCOUNT = os.environ['CARTODB_ACCOUNT']\n",
    "cl = CartoDBAPIKey(API_KEY, CARTODB_ACCOUNT)"
   ]
  },
  {
   "cell_type": "markdown",
   "metadata": {},
   "source": [
    "#### Update Sales table in CartoDB"
   ]
  },
  {
   "cell_type": "code",
   "execution_count": null,
   "metadata": {
    "collapsed": false
   },
   "outputs": [],
   "source": [
    "# output good Census zips to a list\n",
    "ziplist = highsaleszips.index.tolist()"
   ]
  },
  {
   "cell_type": "code",
   "execution_count": null,
   "metadata": {
    "collapsed": true
   },
   "outputs": [],
   "source": [
    "# generate PostgreSQL INSERT statements for CartoDB\n",
    "insertsql = ';'.join(map(lambda x: \"INSERT INTO highsaleszips(zipcode) VALUES ('%s')\" %x, ziplist))"
   ]
  },
  {
   "cell_type": "code",
   "execution_count": null,
   "metadata": {
    "collapsed": false
   },
   "outputs": [],
   "source": [
    "# update sales table\n",
    "try:\n",
    "    print(cl.sql('delete from highsaleszips'))\n",
    "    print(cl.sql(insertsql))\n",
    "except CartoDBException as e:\n",
    "    print(\"some error ocurred\", e)"
   ]
  },
  {
   "cell_type": "markdown",
   "metadata": {},
   "source": [
    "#### Update prospective zip codes  in CartoDB"
   ]
  },
  {
   "cell_type": "code",
   "execution_count": null,
   "metadata": {
    "collapsed": true
   },
   "outputs": [],
   "source": [
    "# output good Census zips to a list\n",
    "ziplist = censusgood_df.index.tolist()"
   ]
  },
  {
   "cell_type": "code",
   "execution_count": null,
   "metadata": {
    "collapsed": true
   },
   "outputs": [],
   "source": [
    "# generate PostgreSQL INSERT statements for CartoDB\n",
    "insertsql = ';'.join(map(lambda x: \"INSERT INTO prospectzips(zipcode) VALUES ('%s')\" %x, ziplist))"
   ]
  },
  {
   "cell_type": "code",
   "execution_count": null,
   "metadata": {
    "collapsed": false
   },
   "outputs": [],
   "source": [
    "try:\n",
    "    print(cl.sql('delete from prospectzips'))\n",
    "    print(cl.sql(insertsql))\n",
    "except CartoDBException as e:\n",
    "    print(\"some error ocurred\", e)"
   ]
  },
  {
   "cell_type": "markdown",
   "metadata": {},
   "source": [
    "## Display the dynamic map "
   ]
  },
  {
   "cell_type": "code",
   "execution_count": null,
   "metadata": {
    "collapsed": false
   },
   "outputs": [],
   "source": [
    "%%javascript\n",
    "element.append(\"<link rel='stylesheet' href='http://libs.cartocdn.com/cartodb.js/v3/3.15/themes/css/cartodb.css' />\")\n",
    "element.append(\"<div id='map' style='height:500px;width:900px;padding:0;margin:0'></div>\");\n",
    "\n",
    "require.config({\n",
    "  paths: {\n",
    "      cartodblib: 'http://libs.cartocdn.com/cartodb.js/v3/3.15/cartodb'\n",
    "  }\n",
    "});\n",
    "\n",
    "var main = function() {\n",
    "  // from map: https://ibmanalytics.cartodb.com/u/ibm/viz/2bd6ea76-9f7f-11e5-a024-0e674067d321/map\n",
    "  cartodb.createVis('map', 'https://ibmanalytics.cartodb.com/u/ibm/api/v2/viz/2bd6ea76-9f7f-11e5-a024-0e674067d321/viz.json', {\n",
    "      shareable: true,title: true,description: true,search: true,tiles_loader: true,\n",
    "      center_lat: 40, center_lon: -100, zoom: 3\n",
    "  })\n",
    "  .done(function(vis, layers) {\n",
    "    console.log('here');\n",
    "    // layer 0 is the base layer, layer 1 is cartodb layer\n",
    "    // setInteraction is disabled by default\n",
    "    layers[1].setInteraction(true);\n",
    "    layers[1].on('featureOver', function(e, latlng, pos, data) {\n",
    "      cartodb.log.log(e, latlng, pos, data);\n",
    "    });\n",
    "    \n",
    "    var map = vis.getNativeMap(); // get the native map to work with it\n",
    "    \n",
    "  })\n",
    "  .error(function(err) {\n",
    "    console.log(err);\n",
    "  });\n",
    "}\n",
    "\n",
    "require(['cartodblib'], main);\n"
   ]
  },
  {
   "cell_type": "markdown",
   "metadata": {
    "collapsed": true
   },
   "source": [
    "## The end"
   ]
  }
 ],
 "metadata": {
  "kernelspec": {
   "display_name": "Python 2",
   "language": "python",
   "name": "python2"
  },
  "language_info": {
   "codemirror_mode": {
    "name": "ipython",
    "version": 2
   },
   "file_extension": ".py",
   "mimetype": "text/x-python",
   "name": "python",
   "nbconvert_exporter": "python",
   "pygments_lexer": "ipython2",
   "version": "2.7.11"
  }
 },
 "nbformat": 4,
 "nbformat_minor": 0
}
